{
 "cells": [
  {
   "cell_type": "code",
   "execution_count": 1,
   "id": "built-compatibility",
   "metadata": {},
   "outputs": [],
   "source": [
    "# Python ≥3.5 is required\n",
    "import sys\n",
    "assert sys.version_info >= (3, 5)\n",
    "\n",
    "# Scikit-Learn ≥0.20 is required\n",
    "import sklearn\n",
    "assert sklearn.__version__ >= \"0.20\"\n",
    "\n",
    "\n",
    "\n",
    "# TensorFlow ≥2.0 is required\n",
    "import tensorflow as tf\n",
    "from tensorflow import keras\n",
    "from keras.models import Model\n",
    "from keras import layers\n",
    "from keras import Input\n",
    "\n",
    "assert tf.__version__ >= \"2.0\"\n",
    "\n",
    "\n",
    "\n",
    "# Common imports\n",
    "import numpy as np\n",
    "import os\n",
    "\n",
    "\n",
    "\n",
    "# to make this notebook's output stable across runs\n",
    "np.random.seed(42)\n",
    "tf.random.set_seed(42)\n",
    "\n"
   ]
  },
  {
   "cell_type": "code",
   "execution_count": 2,
   "id": "rough-stone",
   "metadata": {},
   "outputs": [],
   "source": [
    "from datetime import date\n",
    "\n",
    "# cannot use strftime()'s %B format since it depends on the locale\n",
    "MONTHS = [\"January\", \"February\", \"March\", \"April\", \"May\", \"June\",\n",
    "          \"July\", \"August\", \"September\", \"October\", \"November\", \"December\"]\n",
    "\n",
    "def random_dates(n_dates):\n",
    "    min_date = date(1000, 1, 1).toordinal()\n",
    "    max_date = date(9999, 12, 31).toordinal()\n",
    "\n",
    "    ordinals = np.random.randint(max_date - min_date, size=n_dates) + min_date\n",
    "    dates = [date.fromordinal(ordinal) for ordinal in ordinals]\n",
    "\n",
    "    x = [MONTHS[dt.month - 1] + \" \" + dt.strftime(\"%d, %Y\") for dt in dates]\n",
    "    y = [dt.isoformat() for dt in dates]\n",
    "    return x, y"
   ]
  },
  {
   "cell_type": "code",
   "execution_count": 3,
   "id": "external-advocacy",
   "metadata": {},
   "outputs": [
    {
     "name": "stdout",
     "output_type": "stream",
     "text": [
      "Input                    Target                   \n",
      "--------------------------------------------------\n",
      "September 20, 7075       7075-09-20               \n",
      "May 15, 8579             8579-05-15               \n",
      "January 11, 7103         7103-01-11               \n"
     ]
    }
   ],
   "source": [
    "np.random.seed(42)\n",
    "\n",
    "n_dates = 3\n",
    "x_example, y_example = random_dates(n_dates)\n",
    "print(\"{:25s}{:25s}\".format(\"Input\", \"Target\"))\n",
    "print(\"-\" * 50)\n",
    "for idx in range(n_dates):\n",
    "    print(\"{:25s}{:25s}\".format(x_example[idx], y_example[idx]))"
   ]
  },
  {
   "cell_type": "code",
   "execution_count": 4,
   "id": "extreme-moscow",
   "metadata": {},
   "outputs": [
    {
     "data": {
      "text/plain": [
       "' ,0123456789ADFJMNOSabceghilmnoprstuvy'"
      ]
     },
     "execution_count": 4,
     "metadata": {},
     "output_type": "execute_result"
    }
   ],
   "source": [
    "INPUT_CHARS = \"\".join(sorted(set(\"\".join(MONTHS) + \"0123456789, \")))\n",
    "INPUT_CHARS"
   ]
  },
  {
   "cell_type": "code",
   "execution_count": 5,
   "id": "cardiac-color",
   "metadata": {},
   "outputs": [
    {
     "data": {
      "text/plain": [
       "38"
      ]
     },
     "execution_count": 5,
     "metadata": {},
     "output_type": "execute_result"
    }
   ],
   "source": [
    "len(INPUT_CHARS)"
   ]
  },
  {
   "cell_type": "code",
   "execution_count": 6,
   "id": "assigned-investor",
   "metadata": {},
   "outputs": [],
   "source": [
    "#INPUT_CHARS.insert(\"<eos>\")"
   ]
  },
  {
   "cell_type": "code",
   "execution_count": 7,
   "id": "stupid-registration",
   "metadata": {},
   "outputs": [],
   "source": [
    "OUTPUT_CHARS = \"0123456789-\""
   ]
  },
  {
   "cell_type": "code",
   "execution_count": 8,
   "id": "simplified-insider",
   "metadata": {},
   "outputs": [],
   "source": [
    "def date_str_to_ids(date_str, chars=INPUT_CHARS):\n",
    "    return [chars.index(c) for c in date_str]"
   ]
  },
  {
   "cell_type": "code",
   "execution_count": 9,
   "id": "other-future",
   "metadata": {},
   "outputs": [
    {
     "data": {
      "text/plain": [
       "[19, 23, 31, 34, 23, 28, 21, 23, 32, 0, 4, 2, 1, 0, 9, 2, 9, 7]"
      ]
     },
     "execution_count": 9,
     "metadata": {},
     "output_type": "execute_result"
    }
   ],
   "source": [
    "date_str_to_ids(x_example[0], INPUT_CHARS)"
   ]
  },
  {
   "cell_type": "code",
   "execution_count": 10,
   "id": "reserved-illness",
   "metadata": {},
   "outputs": [
    {
     "data": {
      "text/plain": [
       "[7, 0, 7, 5, 10, 0, 9, 10, 2, 0]"
      ]
     },
     "execution_count": 10,
     "metadata": {},
     "output_type": "execute_result"
    }
   ],
   "source": [
    "date_str_to_ids(y_example[0], OUTPUT_CHARS)"
   ]
  },
  {
   "cell_type": "code",
   "execution_count": 11,
   "id": "smoking-richardson",
   "metadata": {},
   "outputs": [],
   "source": [
    "def prepare_date_strs(date_strs, chars=INPUT_CHARS):\n",
    "    X_ids = [date_str_to_ids(dt, chars) for dt in date_strs]\n",
    "    X = tf.ragged.constant(X_ids, ragged_rank=1)\n",
    "    return (X + 1).to_tensor() # using 0 as the padding token ID\n",
    "\n",
    "def create_dataset(n_dates):\n",
    "    x, y = random_dates(n_dates)\n",
    "    return prepare_date_strs(x, INPUT_CHARS), prepare_date_strs(y, OUTPUT_CHARS)"
   ]
  },
  {
   "cell_type": "code",
   "execution_count": 12,
   "id": "renewable-state",
   "metadata": {},
   "outputs": [
    {
     "data": {
      "text/plain": [
       "(['June 01, 7451'], ['7451-06-01'])"
      ]
     },
     "execution_count": 12,
     "metadata": {},
     "output_type": "execute_result"
    }
   ],
   "source": [
    "random_dates(1)"
   ]
  },
  {
   "cell_type": "code",
   "execution_count": 13,
   "id": "electric-donor",
   "metadata": {},
   "outputs": [
    {
     "data": {
      "text/plain": [
       "11"
      ]
     },
     "execution_count": 13,
     "metadata": {},
     "output_type": "execute_result"
    }
   ],
   "source": [
    "len(OUTPUT_CHARS)"
   ]
  },
  {
   "cell_type": "code",
   "execution_count": 14,
   "id": "different-powell",
   "metadata": {},
   "outputs": [
    {
     "data": {
      "text/plain": [
       "'0123456789-'"
      ]
     },
     "execution_count": 14,
     "metadata": {},
     "output_type": "execute_result"
    }
   ],
   "source": [
    "OUTPUT_CHARS"
   ]
  },
  {
   "cell_type": "markdown",
   "id": "sufficient-equipment",
   "metadata": {},
   "source": [
    "# Models"
   ]
  },
  {
   "cell_type": "markdown",
   "id": "apparent-distance",
   "metadata": {},
   "source": [
    "## Simple encoder-decoder"
   ]
  },
  {
   "cell_type": "code",
   "execution_count": 16,
   "id": "detailed-lemon",
   "metadata": {},
   "outputs": [],
   "source": [
    "import tensorflow_addons as tfa\n",
    "\n",
    "np.random.seed(42)\n",
    "tf.random.set_seed(42)\n",
    "\n",
    "encoder_embedding_size = 32\n",
    "decoder_embedding_size = 64\n",
    "units = 512\n",
    "BATCH_SIZE = 64\n",
    "\n",
    "encoder_inputs = keras.layers.Input(shape=[None], dtype=np.int32)\n",
    "decoder_inputs = keras.layers.Input(shape=[None], dtype=np.int32)\n",
    "sequence_lengths = keras.layers.Input(shape=[], dtype=np.int32)\n",
    "\n",
    "encoder_embeddings_layer  = keras.layers.Embedding(\n",
    "    len(INPUT_CHARS)+1 , encoder_embedding_size) #+1 because of padding\n",
    "encoder_embeddings = encoder_embeddings_layer(encoder_inputs)\n",
    "\n",
    "decoder_embedding_layer = keras.layers.Embedding(\n",
    "    len(OUTPUT_CHARS)+2 , decoder_embedding_size) #+2 because padding + EOS\n",
    "decoder_embeddings = decoder_embedding_layer(decoder_inputs)\n",
    "\n",
    "encoder = keras.layers.LSTM(units, return_state=True)\n",
    "encoder_outputs, state_h, state_c = encoder(encoder_embeddings)\n",
    "encoder_state = [state_h, state_c]\n",
    "\n",
    "sampler = tfa.seq2seq.sampler.TrainingSampler()\n",
    "\n",
    "decoder_cell = keras.layers.LSTMCell(units)\n",
    "output_layer = keras.layers.Dense(len(OUTPUT_CHARS)+2) #+1\n",
    "\n",
    "decoder = tfa.seq2seq.basic_decoder.BasicDecoder(decoder_cell,\n",
    "                                                 sampler,\n",
    "                                                 output_layer=output_layer)\n",
    "final_outputs, final_state, final_sequence_lengths = decoder(\n",
    "    decoder_embeddings,\n",
    "    initial_state=encoder_state)\n",
    "Y_proba = tf.nn.softmax(final_outputs.rnn_output)\n",
    "\n",
    "model = keras.models.Model(inputs=[encoder_inputs, decoder_inputs],\n",
    "                           outputs=[Y_proba])\n"
   ]
  },
  {
   "cell_type": "code",
   "execution_count": 17,
   "id": "useful-enzyme",
   "metadata": {},
   "outputs": [],
   "source": [
    "\n",
    "model.compile(loss=\"sparse_categorical_crossentropy\", optimizer=\"adam\", metrics=[\"accuracy\"])"
   ]
  },
  {
   "cell_type": "code",
   "execution_count": 18,
   "id": "cooperative-documentary",
   "metadata": {},
   "outputs": [
    {
     "data": {
      "image/png": "[encoded data removed]",
      "text/plain": [
       "<IPython.core.display.Image object>"
      ]
     },
     "execution_count": 18,
     "metadata": {},
     "output_type": "execute_result"
    }
   ],
   "source": [
    "tf.keras.utils.plot_model(model, show_shapes=True, rankdir=\"LR\")"
   ]
  },
  {
   "cell_type": "code",
   "execution_count": 19,
   "id": "varied-slave",
   "metadata": {},
   "outputs": [
    {
     "data": {
      "text/plain": [
       "array([10, 10, 10, ..., 10, 10, 10])"
      ]
     },
     "execution_count": 19,
     "metadata": {},
     "output_type": "execute_result"
    }
   ],
   "source": [
    "np.full([10000], 10)"
   ]
  },
  {
   "cell_type": "markdown",
   "id": "dimensional-polish",
   "metadata": {},
   "source": [
    "tf.config.gpu.set_per_process_memory_fraction(0.75)\n",
    "tf.config.gpu.set_per_process_memory_growth(True)"
   ]
  },
  {
   "cell_type": "code",
   "execution_count": 20,
   "id": "interstate-richardson",
   "metadata": {},
   "outputs": [
    {
     "name": "stdout",
     "output_type": "stream",
     "text": [
      "Epoch 1/20\n",
      "157/157 [==============================] - 4s 11ms/step - loss: 1.8456 - accuracy: 0.3248\n",
      "Epoch 2/20\n",
      "157/157 [==============================] - 2s 11ms/step - loss: 1.4578 - accuracy: 0.4102\n",
      "Epoch 3/20\n",
      "157/157 [==============================] - 2s 11ms/step - loss: 1.3816 - accuracy: 0.4544\n",
      "Epoch 4/20\n",
      "157/157 [==============================] - 2s 11ms/step - loss: 1.1662 - accuracy: 0.5387\n",
      "Epoch 5/20\n",
      "157/157 [==============================] - 2s 11ms/step - loss: 0.7749 - accuracy: 0.6926\n",
      "Epoch 6/20\n",
      "157/157 [==============================] - 2s 11ms/step - loss: 0.3530 - accuracy: 0.8732\n",
      "Epoch 7/20\n",
      "157/157 [==============================] - 2s 12ms/step - loss: 0.0775 - accuracy: 0.9866\n",
      "Epoch 8/20\n",
      "157/157 [==============================] - 2s 12ms/step - loss: 0.0369 - accuracy: 0.9943\n",
      "Epoch 9/20\n",
      "157/157 [==============================] - 2s 11ms/step - loss: 0.0080 - accuracy: 0.9999\n",
      "Epoch 10/20\n",
      "157/157 [==============================] - 2s 11ms/step - loss: 0.0040 - accuracy: 1.0000\n",
      "Epoch 11/20\n",
      "157/157 [==============================] - 2s 11ms/step - loss: 0.0027 - accuracy: 1.0000\n",
      "Epoch 12/20\n",
      "157/157 [==============================] - 2s 11ms/step - loss: 0.0019 - accuracy: 1.0000\n",
      "Epoch 13/20\n",
      "157/157 [==============================] - 2s 11ms/step - loss: 0.0015 - accuracy: 1.0000\n",
      "Epoch 14/20\n",
      "157/157 [==============================] - 2s 11ms/step - loss: 0.0011 - accuracy: 1.0000\n",
      "Epoch 15/20\n",
      "157/157 [==============================] - 2s 11ms/step - loss: 9.1523e-04 - accuracy: 1.0000\n",
      "Epoch 16/20\n",
      "157/157 [==============================] - 2s 12ms/step - loss: 7.5006e-04 - accuracy: 1.0000\n",
      "Epoch 17/20\n",
      "157/157 [==============================] - 2s 11ms/step - loss: 6.2489e-04 - accuracy: 1.0000\n",
      "Epoch 18/20\n",
      "157/157 [==============================] - 2s 11ms/step - loss: 5.2579e-04 - accuracy: 1.0000\n",
      "Epoch 19/20\n",
      "157/157 [==============================] - 2s 11ms/step - loss: 4.4837e-04 - accuracy: 1.0000\n",
      "Epoch 20/20\n",
      "157/157 [==============================] - 2s 11ms/step - loss: 3.8249e-04 - accuracy: 1.0000\n"
     ]
    }
   ],
   "source": [
    "X_train, Y_train = create_dataset(10000)\n",
    "X_valid, Y_valid = create_dataset(2000)\n",
    "X_test, Y_test = create_dataset(2000)\n",
    "X = X_train\n",
    "Y = Y_train\n",
    "X_decoder = np.c_[tf.zeros((10000, 1), tf.int32).numpy(), Y_train[:,:-1].numpy()]\n",
    "X_val_decoder = np.c_[tf.zeros((2000, 1), tf.int32).numpy(), Y_valid[:,:-1].numpy()]\n",
    "history = model.fit([X, X_decoder], Y, epochs=20, batch_size=BATCH_SIZE)"
   ]
  },
  {
   "cell_type": "markdown",
   "id": "bulgarian-canada",
   "metadata": {},
   "source": [
    "### Prediction"
   ]
  },
  {
   "cell_type": "code",
   "execution_count": 45,
   "id": "functioning-fabric",
   "metadata": {},
   "outputs": [],
   "source": [
    "max_output_length = Y_train.shape[1]\n",
    "max_input_length =  X_train.shape[1]\n",
    "\n",
    "def prediction_enc_dec(date):\n",
    "    inputs = prepare_date_strs([date], INPUT_CHARS)\n",
    "    #If inputs does not have the right length, the prediction will change (ex: 'April 10, 6024')\n",
    "    if inputs.shape[1] < max_input_length:\n",
    "        inputs = tf.pad(inputs, [[0, 0], [0, max_input_length - inputs.shape[1]]])\n",
    "    y_pred = tf.fill(dims=(1, 1), value=0)#, np.full([1], 1)])\n",
    "    result = \"\"\n",
    "    for t in range(0, max_output_length):\n",
    "        pad_size = max_output_length - y_pred.shape[1]\n",
    "        dec_input = tf.pad(y_pred, [[0, 0], [0, pad_size]])\n",
    "        y_pred_current = model.predict([inputs, dec_input])[:,t:t+1]\n",
    "        #need to put t:t+1 to get shape=(1,1) after applied tf.argmax fot tf.concat\n",
    "        if np.argmax(y_pred_current) == 12: # if end of sentence predicted stop the prediction\n",
    "            result += OUTPUT_CHARS[np.argmax(y_pred_current)-1]\n",
    "            return result\n",
    "        result += OUTPUT_CHARS[np.argmax(y_pred_current)-1]\n",
    "        y_pred = tf.concat([y_pred, tf.argmax(y_pred_current, axis=-1, output_type=tf.int32)], 1) \n",
    "        #tf.argmax and not np.argmax otherwise tf.concat does not work, \n",
    "        #with tf.int32 because dec_input has type tf.int32, axis=-1 to get the correct index\n",
    "\n",
    "\n",
    "    return result"
   ]
  },
  {
   "cell_type": "code",
   "execution_count": 46,
   "id": "collected-founder",
   "metadata": {},
   "outputs": [
    {
     "data": {
      "text/plain": [
       "'6024-04-10'"
      ]
     },
     "execution_count": 46,
     "metadata": {},
     "output_type": "execute_result"
    }
   ],
   "source": [
    "result = prediction_enc_dec('April 10, 6024')\n",
    "result"
   ]
  },
  {
   "cell_type": "code",
   "execution_count": 47,
   "id": "infinite-buddy",
   "metadata": {},
   "outputs": [
    {
     "data": {
      "text/plain": [
       "'6024-09-10'"
      ]
     },
     "execution_count": 47,
     "metadata": {},
     "output_type": "execute_result"
    }
   ],
   "source": [
    "result = prediction_enc_dec('September 10, 6024')\n",
    "result"
   ]
  }
 ],
 "metadata": {
  "kernelspec": {
   "display_name": "Python 3",
   "language": "python",
   "name": "python3"
  },
  "language_info": {
   "codemirror_mode": {
    "name": "ipython",
    "version": 3
   },
   "file_extension": ".py",
   "mimetype": "text/x-python",
   "name": "python",
   "nbconvert_exporter": "python",
   "pygments_lexer": "ipython3",
   "version": "3.8.10"
  }
 },
 "nbformat": 4,
 "nbformat_minor": 5
}
