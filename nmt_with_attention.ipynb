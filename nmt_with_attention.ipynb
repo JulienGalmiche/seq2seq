{
 "cells": [
  {
   "cell_type": "markdown",
   "metadata": {
    "id": "s_qNSzzyaCbD"
   },
   "source": [
    "##### Copyright 2019 The TensorFlow Authors."
   ]
  },
  {
   "cell_type": "code",
   "execution_count": 1,
   "metadata": {
    "cellView": "form",
    "execution": {
     "iopub.execute_input": "2021-08-31T11:08:00.764526Z",
     "iopub.status.busy": "2021-08-31T11:08:00.763916Z",
     "iopub.status.idle": "2021-08-31T11:08:00.767127Z",
     "shell.execute_reply": "2021-08-31T11:08:00.766631Z"
    },
    "id": "jmjh290raIky"
   },
   "outputs": [],
   "source": [
    "#@title Licensed under the Apache License, Version 2.0 (the \"License\");\n",
    "# you may not use this file except in compliance with the License.\n",
    "# You may obtain a copy of the License at\n",
    "#\n",
    "# https://www.apache.org/licenses/LICENSE-2.0\n",
    "#\n",
    "# Unless required by applicable law or agreed to in writing, software\n",
    "# distributed under the License is distributed on an \"AS IS\" BASIS,\n",
    "# WITHOUT WARRANTIES OR CONDITIONS OF ANY KIND, either express or implied.\n",
    "# See the License for the specific language governing permissions and\n",
    "# limitations under the License."
   ]
  },
  {
   "cell_type": "markdown",
   "metadata": {
    "id": "J0Qjg6vuaHNt"
   },
   "source": [
    "# Neural machine translation with attention"
   ]
  },
  {
   "cell_type": "markdown",
   "metadata": {
    "id": "AOpGoE2T-YXS"
   },
   "source": [
    "<table class=\"tfo-notebook-buttons\" align=\"left\">\n",
    "  <td>\n",
    "    <a target=\"_blank\" href=\"https://www.tensorflow.org/text/tutorials/nmt_with_attention\">\n",
    "    <img src=\"https://www.tensorflow.org/images/tf_logo_32px.png\" />\n",
    "    View on TensorFlow.org</a>\n",
    "  </td>\n",
    "  <td>\n",
    "    <a target=\"_blank\" href=\"https://colab.research.google.com/github/tensorflow/text/blob/master/docs/tutorials/nmt_with_attention.ipynb\">\n",
    "    <img src=\"https://www.tensorflow.org/images/colab_logo_32px.png\" />\n",
    "    Run in Google Colab</a>\n",
    "  </td>\n",
    "  <td>\n",
    "    <a target=\"_blank\" href=\"https://github.com/tensorflow/text/blob/master/docs/tutorials/nmt_with_attention.ipynb\">\n",
    "    <img src=\"https://www.tensorflow.org/images/GitHub-Mark-32px.png\" />\n",
    "    View source on GitHub</a>\n",
    "  </td>\n",
    "  <td>\n",
    "    <a href=\"https://storage.googleapis.com/tensorflow_docs/text/docs/tutorials/nmt_with_attention.ipynb\"><img src=\"https://www.tensorflow.org/images/download_logo_32px.png\" />Download notebook</a>\n",
    "  </td>\n",
    "</table>"
   ]
  },
  {
   "cell_type": "markdown",
   "metadata": {
    "id": "CiwtNgENbx2g"
   },
   "source": [
    "This notebook trains a sequence to sequence (seq2seq) model for Spanish to English translation based on [Effective Approaches to Attention-based Neural Machine Translation](https://arxiv.org/abs/1508.04025v5). This is an advanced example that assumes some knowledge of:\n",
    "\n",
    "* Sequence to sequence models\n",
    "* TensorFlow fundamentals below the keras layer: \n",
    "  * Working with tensors directly \n",
    "  * Writing custom `keras.Model`s and `keras.layers`\n",
    "\n",
    "While this architecture is somewhat outdated it is still a very useful project to work through to get a deeper understanding of attention mechanisms (before going on to [Transformers](transformer.ipynb)).\n",
    "\n",
    "After training the model in this notebook, you will be able to input a Spanish sentence, such as \"*¿todavia estan en casa?*\", and return the English translation: \"*are you still at home?*\"\n",
    "\n",
    "The resulting model is exportable as a `tf.saved_model`, so it can be used in other TensorFlow environments.\n",
    "\n",
    "The translation quality is reasonable for a toy example, but the generated attention plot is perhaps more interesting. This shows which parts of the input sentence has the model's attention while translating:\n",
    "\n",
    "<img src=\"https://tensorflow.org/images/spanish-english.png\" alt=\"spanish-english attention plot\">\n",
    "\n",
    "Note: This example takes approximately 10 minutes to run on a single P100 GPU."
   ]
  },
  {
   "cell_type": "markdown",
   "metadata": {
    "id": "yAmSR1FaqKrl"
   },
   "source": [
    "## Setup"
   ]
  },
  {
   "cell_type": "code",
   "execution_count": 2,
   "metadata": {
    "execution": {
     "iopub.execute_input": "2021-08-31T11:08:00.774659Z",
     "iopub.status.busy": "2021-08-31T11:08:00.774116Z",
     "iopub.status.idle": "2021-08-31T11:08:02.467416Z",
     "shell.execute_reply": "2021-08-31T11:08:02.466885Z"
    },
    "id": "DGFTkuRvzWqc"
   },
   "outputs": [
    {
     "name": "stdout",
     "output_type": "stream",
     "text": [
      "Defaulting to user installation because normal site-packages is not writeable\n",
      "Requirement already satisfied: tensorflow_text in /home/julien/.local/lib/python3.8/site-packages (2.6.0)\n",
      "Requirement already satisfied: tensorflow-hub>=0.8.0 in /home/julien/.local/lib/python3.8/site-packages (from tensorflow_text) (0.12.0)\n",
      "Requirement already satisfied: tensorflow<2.7,>=2.6.0 in /home/julien/.local/lib/python3.8/site-packages (from tensorflow_text) (2.6.0)\n",
      "Requirement already satisfied: astunparse~=1.6.3 in /usr/local/lib/python3.8/dist-packages (from tensorflow<2.7,>=2.6.0->tensorflow_text) (1.6.3)\n",
      "Requirement already satisfied: protobuf>=3.9.2 in /usr/local/lib/python3.8/dist-packages (from tensorflow<2.7,>=2.6.0->tensorflow_text) (3.15.3)\n",
      "Requirement already satisfied: absl-py~=0.10 in /usr/local/lib/python3.8/dist-packages (from tensorflow<2.7,>=2.6.0->tensorflow_text) (0.11.0)\n",
      "Requirement already satisfied: numpy~=1.19.2 in /usr/local/lib/python3.8/dist-packages (from tensorflow<2.7,>=2.6.0->tensorflow_text) (1.19.5)\n",
      "Requirement already satisfied: gast==0.4.0 in /home/julien/.local/lib/python3.8/site-packages (from tensorflow<2.7,>=2.6.0->tensorflow_text) (0.4.0)\n",
      "Requirement already satisfied: google-pasta~=0.2 in /usr/local/lib/python3.8/dist-packages (from tensorflow<2.7,>=2.6.0->tensorflow_text) (0.2.0)\n",
      "Requirement already satisfied: typing-extensions~=3.7.4 in /usr/local/lib/python3.8/dist-packages (from tensorflow<2.7,>=2.6.0->tensorflow_text) (3.7.4.3)\n",
      "Requirement already satisfied: clang~=5.0 in /home/julien/.local/lib/python3.8/site-packages (from tensorflow<2.7,>=2.6.0->tensorflow_text) (5.0)\n",
      "Requirement already satisfied: wheel~=0.35 in /usr/local/lib/python3.8/dist-packages (from tensorflow<2.7,>=2.6.0->tensorflow_text) (0.36.2)\n",
      "Requirement already satisfied: h5py~=3.1.0 in /home/julien/.local/lib/python3.8/site-packages (from tensorflow<2.7,>=2.6.0->tensorflow_text) (3.1.0)\n",
      "Requirement already satisfied: wrapt~=1.12.1 in /usr/local/lib/python3.8/dist-packages (from tensorflow<2.7,>=2.6.0->tensorflow_text) (1.12.1)\n",
      "Requirement already satisfied: tensorflow-estimator~=2.6 in /home/julien/.local/lib/python3.8/site-packages (from tensorflow<2.7,>=2.6.0->tensorflow_text) (2.6.0)\n",
      "Requirement already satisfied: termcolor~=1.1.0 in /usr/local/lib/python3.8/dist-packages (from tensorflow<2.7,>=2.6.0->tensorflow_text) (1.1.0)\n",
      "Requirement already satisfied: keras-preprocessing~=1.1.2 in /usr/local/lib/python3.8/dist-packages (from tensorflow<2.7,>=2.6.0->tensorflow_text) (1.1.2)\n",
      "Requirement already satisfied: opt-einsum~=3.3.0 in /usr/local/lib/python3.8/dist-packages (from tensorflow<2.7,>=2.6.0->tensorflow_text) (3.3.0)\n",
      "Requirement already satisfied: keras~=2.6 in /home/julien/.local/lib/python3.8/site-packages (from tensorflow<2.7,>=2.6.0->tensorflow_text) (2.6.0)\n",
      "Requirement already satisfied: grpcio<2.0,>=1.37.0 in /home/julien/.local/lib/python3.8/site-packages (from tensorflow<2.7,>=2.6.0->tensorflow_text) (1.39.0)\n",
      "Requirement already satisfied: flatbuffers~=1.12.0 in /usr/local/lib/python3.8/dist-packages (from tensorflow<2.7,>=2.6.0->tensorflow_text) (1.12)\n",
      "Requirement already satisfied: six~=1.15.0 in /usr/local/lib/python3.8/dist-packages (from tensorflow<2.7,>=2.6.0->tensorflow_text) (1.15.0)\n",
      "Requirement already satisfied: tensorboard~=2.6 in /home/julien/.local/lib/python3.8/site-packages (from tensorflow<2.7,>=2.6.0->tensorflow_text) (2.6.0)\n",
      "Requirement already satisfied: tensorboard-data-server<0.7.0,>=0.6.0 in /home/julien/.local/lib/python3.8/site-packages (from tensorboard~=2.6->tensorflow<2.7,>=2.6.0->tensorflow_text) (0.6.1)\n",
      "Requirement already satisfied: werkzeug>=0.11.15 in /usr/local/lib/python3.8/dist-packages (from tensorboard~=2.6->tensorflow<2.7,>=2.6.0->tensorflow_text) (1.0.1)\n",
      "Requirement already satisfied: google-auth<2,>=1.6.3 in /usr/local/lib/python3.8/dist-packages (from tensorboard~=2.6->tensorflow<2.7,>=2.6.0->tensorflow_text) (1.27.0)\n",
      "Requirement already satisfied: setuptools>=41.0.0 in /usr/lib/python3/dist-packages (from tensorboard~=2.6->tensorflow<2.7,>=2.6.0->tensorflow_text) (45.2.0)\n",
      "Requirement already satisfied: requests<3,>=2.21.0 in /usr/lib/python3/dist-packages (from tensorboard~=2.6->tensorflow<2.7,>=2.6.0->tensorflow_text) (2.22.0)\n",
      "Requirement already satisfied: google-auth-oauthlib<0.5,>=0.4.1 in /usr/local/lib/python3.8/dist-packages (from tensorboard~=2.6->tensorflow<2.7,>=2.6.0->tensorflow_text) (0.4.2)\n",
      "Requirement already satisfied: tensorboard-plugin-wit>=1.6.0 in /usr/local/lib/python3.8/dist-packages (from tensorboard~=2.6->tensorflow<2.7,>=2.6.0->tensorflow_text) (1.8.0)\n",
      "Requirement already satisfied: markdown>=2.6.8 in /usr/local/lib/python3.8/dist-packages (from tensorboard~=2.6->tensorflow<2.7,>=2.6.0->tensorflow_text) (3.3.4)\n",
      "Requirement already satisfied: pyasn1-modules>=0.2.1 in /usr/local/lib/python3.8/dist-packages (from google-auth<2,>=1.6.3->tensorboard~=2.6->tensorflow<2.7,>=2.6.0->tensorflow_text) (0.2.8)\n",
      "Requirement already satisfied: cachetools<5.0,>=2.0.0 in /usr/local/lib/python3.8/dist-packages (from google-auth<2,>=1.6.3->tensorboard~=2.6->tensorflow<2.7,>=2.6.0->tensorflow_text) (4.2.1)\n",
      "Requirement already satisfied: rsa<5,>=3.1.4 in /usr/local/lib/python3.8/dist-packages (from google-auth<2,>=1.6.3->tensorboard~=2.6->tensorflow<2.7,>=2.6.0->tensorflow_text) (4.7.2)\n",
      "Requirement already satisfied: requests-oauthlib>=0.7.0 in /usr/local/lib/python3.8/dist-packages (from google-auth-oauthlib<0.5,>=0.4.1->tensorboard~=2.6->tensorflow<2.7,>=2.6.0->tensorflow_text) (1.3.0)\n",
      "Requirement already satisfied: pyasn1<0.5.0,>=0.4.6 in /usr/local/lib/python3.8/dist-packages (from pyasn1-modules>=0.2.1->google-auth<2,>=1.6.3->tensorboard~=2.6->tensorflow<2.7,>=2.6.0->tensorflow_text) (0.4.8)\n",
      "Requirement already satisfied: oauthlib>=3.0.0 in /usr/lib/python3/dist-packages (from requests-oauthlib>=0.7.0->google-auth-oauthlib<0.5,>=0.4.1->tensorboard~=2.6->tensorflow<2.7,>=2.6.0->tensorflow_text) (3.1.0)\n"
     ]
    }
   ],
   "source": [
    "!pip install tensorflow_text"
   ]
  },
  {
   "cell_type": "code",
   "execution_count": 3,
   "metadata": {
    "execution": {
     "iopub.execute_input": "2021-08-31T11:08:02.472787Z",
     "iopub.status.busy": "2021-08-31T11:08:02.472106Z",
     "iopub.status.idle": "2021-08-31T11:08:04.981826Z",
     "shell.execute_reply": "2021-08-31T11:08:04.982268Z"
    },
    "id": "tnxXKDjq3jEL"
   },
   "outputs": [],
   "source": [
    "import numpy as np\n",
    "\n",
    "import typing\n",
    "from typing import Any, Tuple\n",
    "\n",
    "import tensorflow as tf\n",
    "from tensorflow.keras.layers.experimental import preprocessing\n",
    "\n",
    "import tensorflow_text as tf_text\n",
    "\n",
    "import matplotlib.pyplot as plt\n",
    "import matplotlib.ticker as ticker"
   ]
  },
  {
   "cell_type": "markdown",
   "metadata": {
    "id": "Vs8zge-RUdC2"
   },
   "source": [
    "This tutorial builds a few layers from scratch, use this variable if you want to switch between the custom and builtin implementations."
   ]
  },
  {
   "cell_type": "code",
   "execution_count": 4,
   "metadata": {
    "execution": {
     "iopub.execute_input": "2021-08-31T11:08:04.986851Z",
     "iopub.status.busy": "2021-08-31T11:08:04.986260Z",
     "iopub.status.idle": "2021-08-31T11:08:04.988321Z",
     "shell.execute_reply": "2021-08-31T11:08:04.987913Z"
    },
    "id": "KPJ9J7iPUchc"
   },
   "outputs": [],
   "source": [
    "use_builtins = True"
   ]
  },
  {
   "cell_type": "markdown",
   "metadata": {
    "id": "l_yq8kvIqoqQ"
   },
   "source": [
    "This tutorial uses a lot of low level API's where it's easy to get shapes wrong. This class is used to check shapes throughout the tutorial. \n"
   ]
  },
  {
   "cell_type": "code",
   "execution_count": 5,
   "metadata": {
    "execution": {
     "iopub.execute_input": "2021-08-31T11:08:04.995609Z",
     "iopub.status.busy": "2021-08-31T11:08:04.995050Z",
     "iopub.status.idle": "2021-08-31T11:08:04.997035Z",
     "shell.execute_reply": "2021-08-31T11:08:04.996647Z"
    },
    "id": "KqFqKi4fqN9X"
   },
   "outputs": [],
   "source": [
    "#@title Shape checker\n",
    "class ShapeChecker():\n",
    "  def __init__(self):\n",
    "    # Keep a cache of every axis-name seen\n",
    "    self.shapes = {}\n",
    "\n",
    "  def __call__(self, tensor, names, broadcast=False):\n",
    "    if not tf.executing_eagerly():\n",
    "      return\n",
    "\n",
    "    if isinstance(names, str):\n",
    "      names = (names,)\n",
    "\n",
    "    shape = tf.shape(tensor)\n",
    "    rank = tf.rank(tensor)\n",
    "\n",
    "    if rank != len(names):\n",
    "      raise ValueError(f'Rank mismatch:\\n'\n",
    "                       f'    found {rank}: {shape.numpy()}\\n'\n",
    "                       f'    expected {len(names)}: {names}\\n')\n",
    "\n",
    "    for i, name in enumerate(names):\n",
    "      if isinstance(name, int):\n",
    "        old_dim = name\n",
    "      else:\n",
    "        old_dim = self.shapes.get(name, None)\n",
    "      new_dim = shape[i]\n",
    "\n",
    "      if (broadcast and new_dim == 1):\n",
    "        continue\n",
    "\n",
    "      if old_dim is None:\n",
    "        # If the axis name is new, add its length to the cache.\n",
    "        self.shapes[name] = new_dim\n",
    "        continue\n",
    "\n",
    "      if new_dim != old_dim:\n",
    "        raise ValueError(f\"Shape mismatch for dimension: '{name}'\\n\"\n",
    "                         f\"    found: {new_dim}\\n\"\n",
    "                         f\"    expected: {old_dim}\\n\")"
   ]
  },
  {
   "cell_type": "markdown",
   "metadata": {
    "id": "gjUROhJfH3ML"
   },
   "source": [
    "## The data"
   ]
  },
  {
   "cell_type": "markdown",
   "metadata": {
    "id": "puE_K74DIE9W"
   },
   "source": [
    "We'll use a language dataset provided by http://www.manythings.org/anki/. This dataset contains language translation pairs in the format:\n",
    "\n",
    "```\n",
    "May I borrow this book?\t¿Puedo tomar prestado este libro?\n",
    "```\n",
    "\n",
    "They have a variety of languages available, but we'll use the English-Spanish dataset."
   ]
  },
  {
   "cell_type": "markdown",
   "metadata": {
    "id": "wfodePkj3jEa"
   },
   "source": [
    "### Download and prepare the dataset\n",
    "\n",
    "For convenience, we've hosted a copy of this dataset on Google Cloud, but you can also download your own copy. After downloading the dataset, here are the steps we'll take to prepare the data:\n",
    "\n",
    "1. Add a *start* and *end* token to each sentence.\n",
    "2. Clean the sentences by removing special characters.\n",
    "3. Create a word index and reverse word index (dictionaries mapping from word → id and id → word).\n",
    "4. Pad each sentence to a maximum length."
   ]
  },
  {
   "cell_type": "code",
   "execution_count": 6,
   "metadata": {
    "execution": {
     "iopub.execute_input": "2021-08-31T11:08:05.001138Z",
     "iopub.status.busy": "2021-08-31T11:08:05.000572Z",
     "iopub.status.idle": "2021-08-31T11:08:05.155971Z",
     "shell.execute_reply": "2021-08-31T11:08:05.156317Z"
    },
    "id": "kRVATYOgJs1b"
   },
   "outputs": [],
   "source": [
    "# Download the file\n",
    "import pathlib\n",
    "\n",
    "path_to_zip = tf.keras.utils.get_file(\n",
    "    'spa-eng.zip', origin='http://storage.googleapis.com/download.tensorflow.org/data/spa-eng.zip',\n",
    "    extract=True)\n",
    "\n",
    "path_to_file = pathlib.Path(path_to_zip).parent/'spa-eng/spa.txt'"
   ]
  },
  {
   "cell_type": "code",
   "execution_count": 7,
   "metadata": {
    "execution": {
     "iopub.execute_input": "2021-08-31T11:08:05.160817Z",
     "iopub.status.busy": "2021-08-31T11:08:05.160251Z",
     "iopub.status.idle": "2021-08-31T11:08:05.162466Z",
     "shell.execute_reply": "2021-08-31T11:08:05.161991Z"
    },
    "id": "OHn4Dct23jEm"
   },
   "outputs": [],
   "source": [
    "def load_data(path):\n",
    "  text = path.read_text(encoding='utf-8')\n",
    "\n",
    "  lines = text.splitlines()\n",
    "  pairs = [line.split('\\t') for line in lines]\n",
    "\n",
    "  inp = [inp for targ, inp in pairs]\n",
    "  targ = [targ for targ, inp in pairs]\n",
    "\n",
    "  return targ, inp"
   ]
  },
  {
   "cell_type": "code",
   "execution_count": 8,
   "metadata": {
    "execution": {
     "iopub.execute_input": "2021-08-31T11:08:05.166102Z",
     "iopub.status.busy": "2021-08-31T11:08:05.165535Z",
     "iopub.status.idle": "2021-08-31T11:08:05.449261Z",
     "shell.execute_reply": "2021-08-31T11:08:05.449603Z"
    },
    "id": "cTbSbBz55QtF"
   },
   "outputs": [
    {
     "name": "stdout",
     "output_type": "stream",
     "text": [
      "Si quieres sonar como un hablante nativo, debes estar dispuesto a practicar diciendo la misma frase una y otra vez de la misma manera en que un músico de banjo practica el mismo fraseo una y otra vez hasta que lo puedan tocar correctamente y en el tiempo esperado.\n"
     ]
    }
   ],
   "source": [
    "targ, inp = load_data(path_to_file)\n",
    "print(inp[-1])"
   ]
  },
  {
   "cell_type": "code",
   "execution_count": 9,
   "metadata": {
    "execution": {
     "iopub.execute_input": "2021-08-31T11:08:05.453852Z",
     "iopub.status.busy": "2021-08-31T11:08:05.453294Z",
     "iopub.status.idle": "2021-08-31T11:08:05.455445Z",
     "shell.execute_reply": "2021-08-31T11:08:05.455773Z"
    },
    "id": "lH_dPY8TRp3c"
   },
   "outputs": [
    {
     "name": "stdout",
     "output_type": "stream",
     "text": [
      "If you want to sound like a native speaker, you must be willing to practice saying the same sentence over and over in the same way that banjo players practice the same phrase over and over until they can play it correctly and at the desired tempo.\n"
     ]
    }
   ],
   "source": [
    "print(targ[-1])"
   ]
  },
  {
   "cell_type": "markdown",
   "metadata": {
    "id": "rgCLkfv5uO3d"
   },
   "source": [
    "### Create a tf.data dataset"
   ]
  },
  {
   "cell_type": "markdown",
   "metadata": {
    "id": "PfVWx3WaI5Df"
   },
   "source": [
    "From these arrays of strings you can create a `tf.data.Dataset` of strings that shuffles and batches them efficiently:"
   ]
  },
  {
   "cell_type": "code",
   "execution_count": 10,
   "metadata": {
    "execution": {
     "iopub.execute_input": "2021-08-31T11:08:05.509803Z",
     "iopub.status.busy": "2021-08-31T11:08:05.489174Z",
     "iopub.status.idle": "2021-08-31T11:08:07.426526Z",
     "shell.execute_reply": "2021-08-31T11:08:07.426898Z"
    },
    "id": "TqHsArVZ3jFS"
   },
   "outputs": [],
   "source": [
    "BUFFER_SIZE = len(inp)\n",
    "BATCH_SIZE = 64\n",
    "\n",
    "dataset = tf.data.Dataset.from_tensor_slices((inp, targ)).shuffle(BUFFER_SIZE)\n",
    "dataset = dataset.batch(BATCH_SIZE)"
   ]
  },
  {
   "cell_type": "code",
   "execution_count": 11,
   "metadata": {
    "execution": {
     "iopub.execute_input": "2021-08-31T11:08:07.431752Z",
     "iopub.status.busy": "2021-08-31T11:08:07.431084Z",
     "iopub.status.idle": "2021-08-31T11:08:07.540875Z",
     "shell.execute_reply": "2021-08-31T11:08:07.541219Z"
    },
    "id": "qc6-NK1GtWQt"
   },
   "outputs": [
    {
     "name": "stdout",
     "output_type": "stream",
     "text": [
      "tf.Tensor(\n",
      "[b'\\xc2\\xbfTe est\\xc3\\xa1s sonrojando?' b'Ni lo pienses.'\n",
      " b'Ella puede manejarlo.'\n",
      " b'La enfermera le recomend\\xc3\\xb3 que intentara caminar.'\n",
      " b'No voy a ir all\\xc3\\xad.'], shape=(5,), dtype=string)\n",
      "(64,)\n",
      "tf.Tensor(\n",
      "[b'Are you blushing?' b\"Don't even think about it.\" b'She can handle it.'\n",
      " b'The nurse recommended that he try walking.'\n",
      " b\"I'm not going to go there.\"], shape=(5,), dtype=string)\n",
      "(64,)\n"
     ]
    }
   ],
   "source": [
    "for example_input_batch, example_target_batch in dataset.take(1):\n",
    "    print(example_input_batch[:5])\n",
    "    print(example_input_batch.shape)\n",
    "    print(example_target_batch[:5])\n",
    "    print(example_target_batch.shape)\n",
    "\n",
    "    break"
   ]
  },
  {
   "cell_type": "markdown",
   "metadata": {
    "id": "zCoxLcuN3bwv"
   },
   "source": [
    "### Text preprocessing"
   ]
  },
  {
   "cell_type": "markdown",
   "metadata": {
    "id": "7kwdPcHvzz_a"
   },
   "source": [
    "One of the goals of this tutorial is to build a model that can be exported as a `tf.saved_model`. To make that exported model useful it should take `tf.string` inputs, and retrun `tf.string` outputs: All the text processing happens inside the model. "
   ]
  },
  {
   "cell_type": "markdown",
   "metadata": {
    "id": "EOQ5n55X4uDB"
   },
   "source": [
    "#### Standardization"
   ]
  },
  {
   "cell_type": "markdown",
   "metadata": {
    "id": "upKhKAMK4zzI"
   },
   "source": [
    "The model is dealing with multilingual text with a limited vocabulary. So it will be important to standardize the input text.\n",
    "\n",
    "The first step is Unicode normalization to split accented characters and replace compatibility characters with their ASCII equivalents.\n",
    "\n",
    "The `tensroflow_text` package contains a unicode normalize operation:"
   ]
  },
  {
   "cell_type": "code",
   "execution_count": 12,
   "metadata": {
    "execution": {
     "iopub.execute_input": "2021-08-31T11:08:07.546698Z",
     "iopub.status.busy": "2021-08-31T11:08:07.546024Z",
     "iopub.status.idle": "2021-08-31T11:08:07.548914Z",
     "shell.execute_reply": "2021-08-31T11:08:07.548513Z"
    },
    "id": "mD0e-DWGQ2Vo"
   },
   "outputs": [
    {
     "name": "stdout",
     "output_type": "stream",
     "text": [
      "b'Je suis ton p\\xc3\\xa8re'\n",
      "b'Je suis ton pe\\xcc\\x80re'\n"
     ]
    }
   ],
   "source": [
    "example_text = tf.constant('Je suis ton père')\n",
    "\n",
    "print(example_text.numpy())\n",
    "print(tf_text.normalize_utf8(example_text, 'NFKD').numpy())"
   ]
  },
  {
   "cell_type": "code",
   "execution_count": 13,
   "metadata": {},
   "outputs": [
    {
     "data": {
      "text/plain": [
       "<tf.Tensor: shape=(), dtype=string, numpy=b'Je suis ton p\\xc3\\xa8re'>"
      ]
     },
     "execution_count": 13,
     "metadata": {},
     "output_type": "execute_result"
    }
   ],
   "source": [
    "example_text"
   ]
  },
  {
   "cell_type": "markdown",
   "metadata": {
    "id": "6hTllEjK6RSo"
   },
   "source": [
    "Unicode normalization will be the first step in the text standardization function:"
   ]
  },
  {
   "cell_type": "code",
   "execution_count": 14,
   "metadata": {
    "execution": {
     "iopub.execute_input": "2021-08-31T11:08:07.554784Z",
     "iopub.status.busy": "2021-08-31T11:08:07.553803Z",
     "iopub.status.idle": "2021-08-31T11:08:07.556448Z",
     "shell.execute_reply": "2021-08-31T11:08:07.555912Z"
    },
    "id": "chTF5N885F0P"
   },
   "outputs": [],
   "source": [
    "def tf_lower_and_split_punct(text):\n",
    "  # Split accecented characters.\n",
    "    text = tf_text.normalize_utf8(text, 'NFKD')\n",
    "    text = tf.strings.lower(text)\n",
    "    # Keep space, a to z, and select punctuation.\n",
    "    #text = tf.strings.regex_replace(text, '[^ a-z.?!,¿]', '')\n",
    "    # Add spaces around punctuation.\n",
    "    #text = tf.strings.regex_replace(text, '[.?!,¿]', r' \\0 ')\n",
    "    print(text)\n",
    "    text = tf.strings.regex_replace(text, r'[^a-zA-Z0-9_\\\\]', ' ')\n",
    "    # Strip whitespace.\n",
    "    print(text)\n",
    "    text = tf.strings.strip(text)\n",
    "\n",
    "    text = tf.strings.join(['[START]', text, '[END]'], separator=' ')\n",
    "    return text"
   ]
  },
  {
   "cell_type": "code",
   "execution_count": 15,
   "metadata": {
    "execution": {
     "iopub.execute_input": "2021-08-31T11:08:07.561017Z",
     "iopub.status.busy": "2021-08-31T11:08:07.560119Z",
     "iopub.status.idle": "2021-08-31T11:08:07.563877Z",
     "shell.execute_reply": "2021-08-31T11:08:07.564239Z"
    },
    "id": "UREvDg3sEKYa"
   },
   "outputs": [
    {
     "name": "stdout",
     "output_type": "stream",
     "text": [
      "Je suis ton père\n",
      "tf.Tensor(b'je suis ton pe\\xcc\\x80re', shape=(), dtype=string)\n",
      "tf.Tensor(b'je suis ton pe re', shape=(), dtype=string)\n",
      "[START] je suis ton pe re [END]\n"
     ]
    }
   ],
   "source": [
    "print(example_text.numpy().decode())\n",
    "print(tf_lower_and_split_punct(example_text).numpy().decode())"
   ]
  },
  {
   "cell_type": "markdown",
   "metadata": {
    "id": "4q-sKsSI7xRZ"
   },
   "source": [
    "#### Text Vectorization"
   ]
  },
  {
   "cell_type": "markdown",
   "metadata": {
    "id": "6aKn8qd37abi"
   },
   "source": [
    "This standardization function will be wrapped up in a `preprocessing.TextVectorization` layer which will handle the vocabulary extraction and conversion of input text to sequences of tokens."
   ]
  },
  {
   "cell_type": "code",
   "execution_count": 16,
   "metadata": {
    "execution": {
     "iopub.execute_input": "2021-08-31T11:08:07.568938Z",
     "iopub.status.busy": "2021-08-31T11:08:07.568038Z",
     "iopub.status.idle": "2021-08-31T11:08:07.584795Z",
     "shell.execute_reply": "2021-08-31T11:08:07.584342Z"
    },
    "id": "eAY9k49G3jE_"
   },
   "outputs": [],
   "source": [
    "max_vocab_size = 5000\n",
    "\n",
    "input_text_processor = preprocessing.TextVectorization(\n",
    "    standardize=tf_lower_and_split_punct,\n",
    "    max_tokens=max_vocab_size)"
   ]
  },
  {
   "cell_type": "markdown",
   "metadata": {
    "id": "7kbC6ODP8IK_"
   },
   "source": [
    "The `TextVectorization` layer and many other `experimental.preprocessing` layers have an `adapt` method. This method reads one epoch of the training data, and works a lot like `Model.fix`. This `adapt` method initializes the layer based on the data. Here it determines the vocabulary:  "
   ]
  },
  {
   "cell_type": "code",
   "execution_count": 17,
   "metadata": {
    "execution": {
     "iopub.execute_input": "2021-08-31T11:08:07.589221Z",
     "iopub.status.busy": "2021-08-31T11:08:07.588280Z",
     "iopub.status.idle": "2021-08-31T11:08:11.808199Z",
     "shell.execute_reply": "2021-08-31T11:08:11.808561Z"
    },
    "id": "bmsI1Yql8FYe"
   },
   "outputs": [
    {
     "name": "stdout",
     "output_type": "stream",
     "text": [
      "Tensor(\"StringLower:0\", shape=(None,), dtype=string)\n",
      "Tensor(\"StaticRegexReplace:0\", shape=(None,), dtype=string)\n"
     ]
    },
    {
     "data": {
      "text/plain": [
       "['', '[UNK]', '[START]', '[END]', 'a', 'que', 'de', 'no', 'tom', 'la']"
      ]
     },
     "execution_count": 17,
     "metadata": {},
     "output_type": "execute_result"
    }
   ],
   "source": [
    "input_text_processor.adapt(inp)\n",
    "\n",
    "# Here are the first 10 words from the vocabulary:\n",
    "input_text_processor.get_vocabulary()[:10]"
   ]
  },
  {
   "cell_type": "markdown",
   "metadata": {
    "id": "9kGjIFjX8_Wp"
   },
   "source": [
    "That's the Spanish `TextVectorization` layer, now build and `.adapt()` the English one:"
   ]
  },
  {
   "cell_type": "code",
   "execution_count": 18,
   "metadata": {
    "execution": {
     "iopub.execute_input": "2021-08-31T11:08:11.815602Z",
     "iopub.status.busy": "2021-08-31T11:08:11.815024Z",
     "iopub.status.idle": "2021-08-31T11:08:15.299627Z",
     "shell.execute_reply": "2021-08-31T11:08:15.299165Z"
    },
    "id": "jlC4xuZnKLBS"
   },
   "outputs": [
    {
     "name": "stdout",
     "output_type": "stream",
     "text": [
      "Tensor(\"StringLower:0\", shape=(None,), dtype=string)\n",
      "Tensor(\"StaticRegexReplace:0\", shape=(None,), dtype=string)\n"
     ]
    },
    {
     "data": {
      "text/plain": [
       "['', '[UNK]', '[START]', '[END]', 'i', 'the', 'to', 'you', 'tom', 'a']"
      ]
     },
     "execution_count": 18,
     "metadata": {},
     "output_type": "execute_result"
    }
   ],
   "source": [
    "output_text_processor = preprocessing.TextVectorization(\n",
    "    standardize=tf_lower_and_split_punct,\n",
    "    max_tokens=max_vocab_size)\n",
    "\n",
    "output_text_processor.adapt(targ)\n",
    "output_text_processor.get_vocabulary()[:10]"
   ]
  },
  {
   "cell_type": "markdown",
   "metadata": {
    "id": "BWQqlP_s9eIv"
   },
   "source": [
    "Now these layers can convert a batch of strings into a batch of token IDs:"
   ]
  },
  {
   "cell_type": "code",
   "execution_count": 19,
   "metadata": {
    "execution": {
     "iopub.execute_input": "2021-08-31T11:08:15.304112Z",
     "iopub.status.busy": "2021-08-31T11:08:15.303492Z",
     "iopub.status.idle": "2021-08-31T11:08:15.314366Z",
     "shell.execute_reply": "2021-08-31T11:08:15.314722Z"
    },
    "id": "9KZxj8IrNZ9S"
   },
   "outputs": [
    {
     "name": "stdout",
     "output_type": "stream",
     "text": [
      "tf.Tensor(\n",
      "[b'\\xc2\\xbfte esta\\xcc\\x81s sonrojando?' b'ni lo pienses.'\n",
      " b'ella puede manejarlo.'\n",
      " b'la enfermera le recomendo\\xcc\\x81 que intentara caminar.'\n",
      " b'no voy a ir alli\\xcc\\x81.' b'tom fue al museo con mary.'\n",
      " b'e\\xcc\\x81l me observo\\xcc\\x81 de pie a cabeza.' b'no me lo recuerdes.'\n",
      " b'voy a ayudar a tom.'\n",
      " b'la poblacio\\xcc\\x81n de esta ciudad esta\\xcc\\x81 creciendo.'\n",
      " b'los gustos musicales vari\\xcc\\x81an dependiendo de la persona.'\n",
      " b'e\\xcc\\x81l no hizo nada.'\n",
      " b'\\xc2\\xbfcrees que el revo\\xcc\\x81lver debiera hacerse ilegal?'\n",
      " b'tom sen\\xcc\\x83alo\\xcc\\x81 a la pantalla.'\n",
      " b'pense\\xcc\\x81 que podri\\xcc\\x81a encontrarte aca\\xcc\\x81.'\n",
      " b'nuestro colegio nos prohi\\xcc\\x81be ir al cine solos.'\n",
      " b'estamos a mano.'\n",
      " b'tom penso\\xcc\\x81 que habi\\xcc\\x81a sido ma\\xcc\\x81s listo que todos.'\n",
      " b'\\xc2\\xbfllevas tu porta\\xcc\\x81til?'\n",
      " b'ella habla un poco de a\\xcc\\x81rabe.' b'tom es independiente ahora.'\n",
      " b'pase\\xcc\\x81 doce horas en el tren.'\n",
      " b'he estado estudiando en china por diez meses.'\n",
      " b'\\xc2\\xbfpuedo reservar un vuelo a chicago?'\n",
      " b'dime lo que esta\\xcc\\x81s buscando y te ayudare\\xcc\\x81.'\n",
      " b'\\xc2\\xbfira\\xcc\\x81s?'\n",
      " b'\\xc2\\xbfcuesta mucho aprender france\\xcc\\x81s?'\n",
      " b'\\xc2\\xbfhas perdido peso?' b'aprecio el tiempo que pasamos juntos.'\n",
      " b'muchos pai\\xcc\\x81ses han aprobado leyes prohibiendo a la gente fumar en lugares pu\\xcc\\x81blicos.'\n",
      " b'e\\xcc\\x81l estaba impaciente por ver a su hija.'\n",
      " b'e\\xcc\\x81l teni\\xcc\\x81a pocos amigos y poco dinero.'\n",
      " b'\\xc2\\xbfvas man\\xcc\\x83ana a la escuela?'\n",
      " b'esa compan\\xcc\\x83i\\xcc\\x81a ha sido muy exitosa hasta ahora.'\n",
      " b'\\xc2\\xbfsabe\\xcc\\x81s por que\\xcc\\x81 estoy aqui\\xcc\\x81?'\n",
      " b'\\xc2\\xbftienes algo caliente para beber?'\n",
      " b'esta vez no vas a eludir tu castigo.' b'tom hizo un trabajo destacado.'\n",
      " b'tom le vendio\\xcc\\x81 su carro a mary por trescientos do\\xcc\\x81lares.'\n",
      " b'ahora lo entiendo.'\n",
      " b'tom le puso a su barco el nombre de su novia, pero entonces ella le dejo\\xcc\\x81.'\n",
      " b'tengo razo\\xcc\\x81n, \\xc2\\xbfo no?'\n",
      " b'\\xc2\\xbftodavi\\xcc\\x81a necesitas un pre\\xcc\\x81stamo?'\n",
      " b'tom hace lo que quiere.'\n",
      " b'no confunda\\xcc\\x81is austria con australia.'\n",
      " b'el almuerzo va a estar listo luego.' b'quiero estar en este grupo.'\n",
      " b'creo que deberi\\xcc\\x81as disculparte con ella.'\n",
      " b'nos parecemos mucho.' b'la situacio\\xcc\\x81n es desesperada.'\n",
      " b'no se da cuenta de que no tiene tiempo para estas cosas.'\n",
      " b'me alegre\\xcc\\x81 de verlo.' b'\\xc2\\xa1no interfieras!'\n",
      " b'es un poco extran\\xcc\\x83o para mi\\xcc\\x81.' b'no me siento muy feliz.'\n",
      " b'\\xc2\\xbfpor que\\xcc\\x81 no dijiste adio\\xcc\\x81s?'\n",
      " b'\\xc2\\xbfco\\xcc\\x81mo lo explico para que todos puedan entenderlo?'\n",
      " b'tom se ve conmocionado.' b'la primavera llegara\\xcc\\x81 pronto.'\n",
      " b'e\\xcc\\x81l es actor.' b'saldremos.'\n",
      " b'significa\\xcc\\x81is mucho para mi\\xcc\\x81.'\n",
      " b'a tom le gustaba escuchar a mari\\xcc\\x81a tocar el piano.'\n",
      " b'era evidente que ella estaba cansada.'], shape=(64,), dtype=string)\n",
      "tf.Tensor(\n",
      "[b' te esta s sonrojando ' b'ni lo pienses ' b'ella puede manejarlo '\n",
      " b'la enfermera le recomendo  que intentara caminar '\n",
      " b'no voy a ir alli  ' b'tom fue al museo con mary '\n",
      " b'e l me observo  de pie a cabeza ' b'no me lo recuerdes '\n",
      " b'voy a ayudar a tom ' b'la poblacio n de esta ciudad esta  creciendo '\n",
      " b'los gustos musicales vari an dependiendo de la persona '\n",
      " b'e l no hizo nada ' b' crees que el revo lver debiera hacerse ilegal '\n",
      " b'tom sen alo  a la pantalla ' b'pense  que podri a encontrarte aca  '\n",
      " b'nuestro colegio nos prohi be ir al cine solos ' b'estamos a mano '\n",
      " b'tom penso  que habi a sido ma s listo que todos '\n",
      " b' llevas tu porta til ' b'ella habla un poco de a rabe '\n",
      " b'tom es independiente ahora ' b'pase  doce horas en el tren '\n",
      " b'he estado estudiando en china por diez meses '\n",
      " b' puedo reservar un vuelo a chicago '\n",
      " b'dime lo que esta s buscando y te ayudare  ' b' ira s '\n",
      " b' cuesta mucho aprender france s ' b' has perdido peso '\n",
      " b'aprecio el tiempo que pasamos juntos '\n",
      " b'muchos pai ses han aprobado leyes prohibiendo a la gente fumar en lugares pu blicos '\n",
      " b'e l estaba impaciente por ver a su hija '\n",
      " b'e l teni a pocos amigos y poco dinero ' b' vas man ana a la escuela '\n",
      " b'esa compan i a ha sido muy exitosa hasta ahora '\n",
      " b' sabe s por que  estoy aqui  ' b' tienes algo caliente para beber '\n",
      " b'esta vez no vas a eludir tu castigo ' b'tom hizo un trabajo destacado '\n",
      " b'tom le vendio  su carro a mary por trescientos do lares '\n",
      " b'ahora lo entiendo '\n",
      " b'tom le puso a su barco el nombre de su novia  pero entonces ella le dejo  '\n",
      " b'tengo razo n   o no ' b' todavi a necesitas un pre stamo '\n",
      " b'tom hace lo que quiere ' b'no confunda is austria con australia '\n",
      " b'el almuerzo va a estar listo luego ' b'quiero estar en este grupo '\n",
      " b'creo que deberi as disculparte con ella ' b'nos parecemos mucho '\n",
      " b'la situacio n es desesperada '\n",
      " b'no se da cuenta de que no tiene tiempo para estas cosas '\n",
      " b'me alegre  de verlo ' b' no interfieras '\n",
      " b'es un poco extran o para mi  ' b'no me siento muy feliz '\n",
      " b' por que  no dijiste adio s '\n",
      " b' co mo lo explico para que todos puedan entenderlo '\n",
      " b'tom se ve conmocionado ' b'la primavera llegara  pronto '\n",
      " b'e l es actor ' b'saldremos ' b'significa is mucho para mi  '\n",
      " b'a tom le gustaba escuchar a mari a tocar el piano '\n",
      " b'era evidente que ella estaba cansada '], shape=(64,), dtype=string)\n"
     ]
    },
    {
     "data": {
      "text/plain": [
       "<tf.Tensor: shape=(3, 10), dtype=int64, numpy=\n",
       "array([[   2,   30,   16,   14,    1,    3,    0,    0,    0,    0],\n",
       "       [   2,  215,   21, 3337,    3,    0,    0,    0,    0,    0],\n",
       "       [   2,   29,   79,    1,    3,    0,    0,    0,    0,    0]])>"
      ]
     },
     "execution_count": 19,
     "metadata": {},
     "output_type": "execute_result"
    }
   ],
   "source": [
    "example_tokens = input_text_processor(example_input_batch)\n",
    "example_tokens[:3, :10]"
   ]
  },
  {
   "cell_type": "markdown",
   "metadata": {
    "id": "AA9rUn9G9n78"
   },
   "source": [
    "The `get_vocabulary` method can be used to convert token IDs back to text:"
   ]
  },
  {
   "cell_type": "code",
   "execution_count": 26,
   "metadata": {
    "execution": {
     "iopub.execute_input": "2021-08-31T11:08:15.319633Z",
     "iopub.status.busy": "2021-08-31T11:08:15.318789Z",
     "iopub.status.idle": "2021-08-31T11:08:15.331248Z",
     "shell.execute_reply": "2021-08-31T11:08:15.331592Z"
    },
    "id": "98g9rcxGQY0I"
   },
   "outputs": [
    {
     "data": {
      "text/plain": [
       "'[START] ni lo pienses [END]             '"
      ]
     },
     "execution_count": 26,
     "metadata": {},
     "output_type": "execute_result"
    }
   ],
   "source": [
    "input_vocab = np.array(input_text_processor.get_vocabulary())\n",
    "tokens = input_vocab[example_tokens[].numpy()]\n",
    "' '.join(tokens)"
   ]
  },
  {
   "cell_type": "code",
   "execution_count": 27,
   "metadata": {},
   "outputs": [
    {
     "data": {
      "text/plain": [
       "<tf.Tensor: shape=(), dtype=string, numpy=b'Ni lo pienses.'>"
      ]
     },
     "execution_count": 27,
     "metadata": {},
     "output_type": "execute_result"
    }
   ],
   "source": [
    "example_input_batch[1]"
   ]
  },
  {
   "cell_type": "code",
   "execution_count": 31,
   "metadata": {},
   "outputs": [
    {
     "data": {
      "text/plain": [
       "18"
      ]
     },
     "execution_count": 31,
     "metadata": {},
     "output_type": "execute_result"
    }
   ],
   "source": [
    "len(example_tokens[3].numpy())"
   ]
  },
  {
   "cell_type": "markdown",
   "metadata": {
    "id": "Ot0aCL9t-Ghi"
   },
   "source": [
    "The returned token IDs are zero-padded. This can easily be turned into a mask:"
   ]
  },
  {
   "cell_type": "code",
   "execution_count": 21,
   "metadata": {
    "execution": {
     "iopub.execute_input": "2021-08-31T11:08:15.354153Z",
     "iopub.status.busy": "2021-08-31T11:08:15.351303Z",
     "iopub.status.idle": "2021-08-31T11:08:15.700859Z",
     "shell.execute_reply": "2021-08-31T11:08:15.701320Z"
    },
    "id": "_jx4Or_eFRSz"
   },
   "outputs": [
    {
     "data": {
      "text/plain": [
       "Text(0.5, 1.0, 'Mask')"
      ]
     },
     "execution_count": 21,
     "metadata": {},
     "output_type": "execute_result"
    },
    {
     "data": {
      "image/png": "[encoded data removed]",
      "text/plain": [
       "<Figure size 432x288 with 2 Axes>"
      ]
     },
     "metadata": {
      "needs_background": "light"
     },
     "output_type": "display_data"
    }
   ],
   "source": [
    "plt.subplot(1, 2, 1)\n",
    "plt.pcolormesh(example_tokens)\n",
    "plt.title('Token IDs')\n",
    "\n",
    "plt.subplot(1, 2, 2)\n",
    "plt.pcolormesh(example_tokens != 0)\n",
    "plt.title('Mask')"
   ]
  },
  {
   "cell_type": "markdown",
   "metadata": {
    "id": "TNfHIF71ulLu"
   },
   "source": [
    "## The encoder/decoder model\n",
    "\n",
    "The following diagram shows an overview of the model. At each time-step the decoder's output is combined with a weighted sum over the encoded input, to predict the next word. The diagram and formulas are from [Luong's paper](https://arxiv.org/abs/1508.04025v5).\n",
    "\n",
    "<img src=\"https://www.tensorflow.org/images/seq2seq/attention_mechanism.jpg\" width=\"500\" alt=\"attention mechanism\">\n"
   ]
  },
  {
   "cell_type": "markdown",
   "metadata": {
    "id": "gzQWx2saImMV"
   },
   "source": [
    "Before getting into it define a few constants for the model:"
   ]
  },
  {
   "cell_type": "code",
   "execution_count": 55,
   "metadata": {
    "execution": {
     "iopub.execute_input": "2021-08-31T11:08:15.705973Z",
     "iopub.status.busy": "2021-08-31T11:08:15.705140Z",
     "iopub.status.idle": "2021-08-31T11:08:15.707971Z",
     "shell.execute_reply": "2021-08-31T11:08:15.707416Z"
    },
    "id": "_a9uNz3-IrF-"
   },
   "outputs": [],
   "source": [
    "embedding_dim = 256\n",
    "units = 1024"
   ]
  },
  {
   "cell_type": "markdown",
   "metadata": {
    "id": "blNgVbLSzpsr"
   },
   "source": [
    "### The encoder\n",
    "\n",
    "Start by building the encoder, the blue part of the diagram above.\n",
    "\n",
    "The encoder:\n",
    "\n",
    "1. Takes a list of token IDs (from `input_text_processor`).\n",
    "3. Looks up an embedding vector for each token (Using a `layers.Embedding`).\n",
    "4. Processes the embeddings into a new sequence (Using a `layers.GRU`).\n",
    "5. Returns:\n",
    "  * The processed sequence. This will be passed to the attention head.\n",
    "  * The internal state. This will be used to initialize the decoder\n"
   ]
  },
  {
   "cell_type": "code",
   "execution_count": 56,
   "metadata": {
    "execution": {
     "iopub.execute_input": "2021-08-31T11:08:15.715773Z",
     "iopub.status.busy": "2021-08-31T11:08:15.714847Z",
     "iopub.status.idle": "2021-08-31T11:08:15.716930Z",
     "shell.execute_reply": "2021-08-31T11:08:15.717339Z"
    },
    "id": "nZ2rI24i3jFg"
   },
   "outputs": [],
   "source": [
    "class Encoder(tf.keras.layers.Layer):\n",
    "  def __init__(self, input_vocab_size, embedding_dim, enc_units):\n",
    "    super(Encoder, self).__init__()\n",
    "    self.enc_units = enc_units\n",
    "    self.input_vocab_size = input_vocab_size\n",
    "\n",
    "    # The embedding layer converts tokens to vectors\n",
    "    self.embedding = tf.keras.layers.Embedding(self.input_vocab_size,\n",
    "                                               embedding_dim)\n",
    "\n",
    "    # The GRU RNN layer processes those vectors sequentially.\n",
    "    self.gru = tf.keras.layers.GRU(self.enc_units,\n",
    "                                   # Return the sequence and state\n",
    "                                   return_sequences=True,\n",
    "                                   return_state=True,\n",
    "                                   recurrent_initializer='glorot_uniform')\n",
    "\n",
    "  def call(self, tokens, state=None):\n",
    "    shape_checker = ShapeChecker()\n",
    "    shape_checker(tokens, ('batch', 's'))\n",
    "\n",
    "    # 2. The embedding layer looks up the embedding for each token.\n",
    "    vectors = self.embedding(tokens)\n",
    "    shape_checker(vectors, ('batch', 's', 'embed_dim'))\n",
    "\n",
    "    # 3. The GRU processes the embedding sequence.\n",
    "    #    output shape: (batch, s, enc_units)\n",
    "    #    state shape: (batch, enc_units)\n",
    "    output, state = self.gru(vectors, initial_state=state)\n",
    "    shape_checker(output, ('batch', 's', 'enc_units'))\n",
    "    shape_checker(state, ('batch', 'enc_units'))\n",
    "\n",
    "    # 4. Returns the new sequence and its state.\n",
    "    return output, state"
   ]
  },
  {
   "cell_type": "markdown",
   "metadata": {
    "id": "D3SKkaQeGn-Q"
   },
   "source": [
    "Here is how it fits together so far:"
   ]
  },
  {
   "cell_type": "code",
   "execution_count": 57,
   "metadata": {
    "execution": {
     "iopub.execute_input": "2021-08-31T11:08:15.722849Z",
     "iopub.status.busy": "2021-08-31T11:08:15.721859Z",
     "iopub.status.idle": "2021-08-31T11:08:19.194218Z",
     "shell.execute_reply": "2021-08-31T11:08:19.194572Z"
    },
    "id": "60gSVh05Jl6l"
   },
   "outputs": [
    {
     "name": "stdout",
     "output_type": "stream",
     "text": [
      "tf.Tensor(\n",
      "[b'ese tipo es muy fresco.' b'mante\\xcc\\x81ngame informado.'\n",
      " b'no has escuchado ni la mitad todavi\\xcc\\x81a.'\n",
      " b'tom se lo estaba pasando bien.'\n",
      " b'e\\xcc\\x81l es diferente de las personas alrededor suyo.'\n",
      " b'perdo\\xcc\\x81neme. \\xc2\\xbfquie\\xcc\\x81n es usted?'\n",
      " b'las cosas usualmente toman ma\\xcc\\x81s tiempo de lo que esperas.'\n",
      " b'el juego fue cancelado en el u\\xcc\\x81ltimo minuto.'\n",
      " b'castigue\\xcc\\x81 a tom.' b'tom quiere que me una a su equipo.'\n",
      " b'\\xc2\\xbfdo\\xcc\\x81nde se encuentra la estacio\\xcc\\x81n del metro ma\\xcc\\x81s cercana?'\n",
      " b'acabo de terminar mi tarea.' b'creo que sabes lo que pienso.'\n",
      " b'estoy hirviendo agua.' b'no estamos aqui\\xcc\\x81 para deteneros.'\n",
      " b'di\\xcc\\x81gale a tom do\\xcc\\x81nde estoy.'\n",
      " b'\\xc2\\xbfcua\\xcc\\x81l es tu lugar vacacional favorito de japo\\xcc\\x81n?'\n",
      " b'e\\xcc\\x81l volvio\\xcc\\x81 muy tarde a casa.'\n",
      " b'\\xc2\\xa1hey!, mira, es tom.' b'no quiero volver a boston.'\n",
      " b'tom puede jugar muy bien tenis.' b'me gane\\xcc\\x81 la loteri\\xcc\\x81a.'\n",
      " b'e\\xcc\\x81sa es la casa donde naci\\xcc\\x81.'\n",
      " b'tienen un muy buen curri\\xcc\\x81culo en esa universidad.'\n",
      " b'creo que deberi\\xcc\\x81amos comprar una casa nueva.'\n",
      " b'no creo que e\\xcc\\x81l pueda hacer eso.'\n",
      " b'le explique\\xcc\\x81 a ella de lo que se trataba.'\n",
      " b'pensaba que alguien habi\\xcc\\x81a echado veneno en la sopa.'\n",
      " b'gracias por decorar mi casa.' b'\\xc2\\xbfos gusta el tenis?'\n",
      " b'es un problema sin importar como lo veas.'\n",
      " b'olvide\\xcc\\x81 completamente hacer algo para que comie\\xcc\\x81ramos.'\n",
      " b'creo que si\\xcc\\x81.'\n",
      " b'\\xc2\\xbfcua\\xcc\\x81nto tiempo estuviste ocupado?'\n",
      " b'yo te apoyare\\xcc\\x81.' b'ayer le robaron la bolsa.'\n",
      " b'me encontre\\xcc\\x81 un do\\xcc\\x81lar en la calle.'\n",
      " b'no hay excusa para su comportamiento.'\n",
      " b'pense\\xcc\\x81 mucho en vos el mes pasado.'\n",
      " b'perdi\\xcc\\x81 el tren por so\\xcc\\x81lo unos minutos.'\n",
      " b'supe que no habi\\xcc\\x81a nada que pudieras hacer al respecto.'\n",
      " b'e\\xcc\\x81l estaba de pie.'\n",
      " b'\\xc2\\xbfhas contratado alguna vez a una sirvienta?'\n",
      " b'alimento a mi perro justo antes de cenar.'\n",
      " b'la chica entro\\xcc\\x81 en la habitacio\\xcc\\x81n.'\n",
      " b'\\xc2\\xbfcua\\xcc\\x81l era tu libro favorito cuando eras nin\\xcc\\x83o?'\n",
      " b'atraparon al ladro\\xcc\\x81n esta man\\xcc\\x83ana.'\n",
      " b'quiero bailar con mary.' b'yo se\\xcc\\x81 do\\xcc\\x81nde trabaja tom.'\n",
      " b'este trabajo no debe tomar ma\\xcc\\x81s de un par de horas.'\n",
      " b'descansad un poco.'\n",
      " b'entonces eso quiere decir que lo perdi\\xcc\\x81 todo.'\n",
      " b'pienso que sere\\xcc\\x81 capaz de soportar eso.'\n",
      " b'tom deseaba una bicicleta.'\n",
      " b'e\\xcc\\x81l no sabe escribir una carta en ingle\\xcc\\x81s.'\n",
      " b'no compro\\xcc\\x81 el pan.' b'\\xc2\\xbfme ayudas a mover la mesa?'\n",
      " b'volvamos al trabajo.' b'lo u\\xcc\\x81nico que tengo son libros.'\n",
      " b'puedes correr, pero no esconderte.' b'tom, me quiero quedar contigo.'\n",
      " b'nunca te perdonare\\xcc\\x81.'\n",
      " b'\\xc2\\xbfya terminaste de leer ese libro?'\n",
      " b'me pregunto do\\xcc\\x81nde esta\\xcc\\x81 toma\\xcc\\x81s.'], shape=(64,), dtype=string)\n",
      "tf.Tensor(\n",
      "[b'ese tipo es muy fresco ' b'mante ngame informado '\n",
      " b'no has escuchado ni la mitad todavi a '\n",
      " b'tom se lo estaba pasando bien '\n",
      " b'e l es diferente de las personas alrededor suyo '\n",
      " b'perdo neme   quie n es usted '\n",
      " b'las cosas usualmente toman ma s tiempo de lo que esperas '\n",
      " b'el juego fue cancelado en el u ltimo minuto ' b'castigue  a tom '\n",
      " b'tom quiere que me una a su equipo '\n",
      " b' do nde se encuentra la estacio n del metro ma s cercana '\n",
      " b'acabo de terminar mi tarea ' b'creo que sabes lo que pienso '\n",
      " b'estoy hirviendo agua ' b'no estamos aqui  para deteneros '\n",
      " b'di gale a tom do nde estoy '\n",
      " b' cua l es tu lugar vacacional favorito de japo n '\n",
      " b'e l volvio  muy tarde a casa ' b' hey   mira  es tom '\n",
      " b'no quiero volver a boston ' b'tom puede jugar muy bien tenis '\n",
      " b'me gane  la loteri a ' b'e sa es la casa donde naci  '\n",
      " b'tienen un muy buen curri culo en esa universidad '\n",
      " b'creo que deberi amos comprar una casa nueva '\n",
      " b'no creo que e l pueda hacer eso '\n",
      " b'le explique  a ella de lo que se trataba '\n",
      " b'pensaba que alguien habi a echado veneno en la sopa '\n",
      " b'gracias por decorar mi casa ' b' os gusta el tenis '\n",
      " b'es un problema sin importar como lo veas '\n",
      " b'olvide  completamente hacer algo para que comie ramos '\n",
      " b'creo que si  ' b' cua nto tiempo estuviste ocupado ' b'yo te apoyare  '\n",
      " b'ayer le robaron la bolsa ' b'me encontre  un do lar en la calle '\n",
      " b'no hay excusa para su comportamiento '\n",
      " b'pense  mucho en vos el mes pasado '\n",
      " b'perdi  el tren por so lo unos minutos '\n",
      " b'supe que no habi a nada que pudieras hacer al respecto '\n",
      " b'e l estaba de pie ' b' has contratado alguna vez a una sirvienta '\n",
      " b'alimento a mi perro justo antes de cenar '\n",
      " b'la chica entro  en la habitacio n '\n",
      " b' cua l era tu libro favorito cuando eras nin o '\n",
      " b'atraparon al ladro n esta man ana ' b'quiero bailar con mary '\n",
      " b'yo se  do nde trabaja tom '\n",
      " b'este trabajo no debe tomar ma s de un par de horas '\n",
      " b'descansad un poco ' b'entonces eso quiere decir que lo perdi  todo '\n",
      " b'pienso que sere  capaz de soportar eso ' b'tom deseaba una bicicleta '\n",
      " b'e l no sabe escribir una carta en ingle s ' b'no compro  el pan '\n",
      " b' me ayudas a mover la mesa ' b'volvamos al trabajo '\n",
      " b'lo u nico que tengo son libros ' b'puedes correr  pero no esconderte '\n",
      " b'tom  me quiero quedar contigo ' b'nunca te perdonare  '\n",
      " b' ya terminaste de leer ese libro ' b'me pregunto do nde esta  toma s '], shape=(64,), dtype=string)\n",
      "Input batch, shape (batch): (64,)\n",
      "Input batch tokens, shape (batch, s): (64, 14)\n",
      "Encoder output, shape (batch, s, units): (64, 14, 1024)\n",
      "Encoder state, shape (batch, units): (64, 1024)\n"
     ]
    }
   ],
   "source": [
    "# Convert the input text to tokens.\n",
    "example_tokens = input_text_processor(example_input_batch)\n",
    "\n",
    "# Encode the input sequence.\n",
    "encoder = Encoder(input_text_processor.vocabulary_size(),\n",
    "                  embedding_dim, units)\n",
    "example_enc_output, example_enc_state = encoder(example_tokens)\n",
    "\n",
    "print(f'Input batch, shape (batch): {example_input_batch.shape}')\n",
    "print(f'Input batch tokens, shape (batch, s): {example_tokens.shape}')\n",
    "print(f'Encoder output, shape (batch, s, units): {example_enc_output.shape}')\n",
    "print(f'Encoder state, shape (batch, units): {example_enc_state.shape}')"
   ]
  },
  {
   "cell_type": "markdown",
   "metadata": {
    "id": "2RIPHh4O9ixB"
   },
   "source": [
    "The encoder returns its internal state so that its state can be used to initialize the decoder.\n",
    "\n",
    "It's also common for an RNN to return its state so that it can process a sequence over multiple calls. You'll see more of that building the decoder."
   ]
  },
  {
   "cell_type": "markdown",
   "metadata": {
    "id": "45xM_Gl1MgXY"
   },
   "source": [
    "### The attention head\n",
    "\n",
    "The decoder uses attention to selectively focus on parts of the input sequence.\n",
    "The attention takes a sequence of vectors as input for each example and returns an \"attention\" vector for each example. This attention layer is similar to a `layers.GlobalAveragePoling1D` but the attention layer performs a _weighted_ average.\n",
    "\n",
    "Let's look at how this works:\n",
    "\n",
    "<img src=\"images/attention_equation_1.jpg\" alt=\"attention equation 1\" width=\"800\">\n",
    "\n",
    "<img src=\"images/attention_equation_2.jpg\" alt=\"attention equation 2\" width=\"800\">"
   ]
  },
  {
   "cell_type": "markdown",
   "metadata": {
    "id": "NX2JsKzzzgZ5"
   },
   "source": [
    "Where:\n",
    "\n",
    "* $s$ is the encoder index.\n",
    "* $t$ is the decoder index.\n",
    "* $\\alpha_{ts}$ is the attention weights.\n",
    "* $h_s$ is the sequence of encoder outputs being attended to (the attention \"key\" and \"value\" in transformer terminology).\n",
    "* $h_t$ is the the decoder state attending to the sequence (the attention \"query\" in transformer terminology).\n",
    "* $c_t$ is the resulting context vector.\n",
    "* $a_t$ is the final output combining the \"context\" and \"query\".\n",
    "\n",
    "The equations:\n",
    "\n",
    "1. Calculates the attention weights, $\\alpha_{ts}$, as a softmax across the encoder's output sequence.\n",
    "2. Calculates the context vector as the weighted sum of the encoder outputs.\n"
   ]
  },
  {
   "cell_type": "markdown",
   "metadata": {
    "id": "fNA5GeHHPsGL"
   },
   "source": [
    "Last is the $score$ function. Its job is to calculate a scalar logit-score for each key-query pair. There are two common approaches:\n",
    "\n",
    "<img src=\"images/attention_equation_4.jpg\" alt=\"attention equation 4\" width=\"800\">\n",
    "\n",
    "This tutorial uses [Bahdanau's additive attention](https://arxiv.org/pdf/1409.0473.pdf). TensorFlow includes implementations of both as `layers.Attention` and\n",
    "`layers.AdditiveAttention`. The class below handles the weight matrices in a pair of `layers.Dense` layers, and calls the builtin implementation."
   ]
  },
  {
   "cell_type": "code",
   "execution_count": 61,
   "metadata": {
    "execution": {
     "iopub.execute_input": "2021-08-31T11:08:19.202991Z",
     "iopub.status.busy": "2021-08-31T11:08:19.202093Z",
     "iopub.status.idle": "2021-08-31T11:08:19.204033Z",
     "shell.execute_reply": "2021-08-31T11:08:19.204424Z"
    },
    "id": "momiE59lXo6U"
   },
   "outputs": [],
   "source": [
    "class BahdanauAttention(tf.keras.layers.Layer):\n",
    "  def __init__(self, units):\n",
    "    super().__init__()\n",
    "    # For Eqn. (4), the  Bahdanau attention\n",
    "    self.W1 = tf.keras.layers.Dense(units, use_bias=False)\n",
    "    self.W2 = tf.keras.layers.Dense(units, use_bias=False)\n",
    "\n",
    "    self.attention = tf.keras.layers.AdditiveAttention()\n",
    "\n",
    "  def call(self, query, value, mask):\n",
    "    shape_checker = ShapeChecker()\n",
    "    shape_checker(query, ('batch', 't', 'query_units'))\n",
    "    shape_checker(value, ('batch', 's', 'value_units'))\n",
    "    shape_checker(mask, ('batch', 's'))\n",
    "\n",
    "    # From Eqn. (4), `W1@ht`.\n",
    "    w1_query = self.W1(query)\n",
    "    shape_checker(w1_query, ('batch', 't', 'attn_units'))\n",
    "\n",
    "    # From Eqn. (4), `W2@hs`.\n",
    "    w2_key = self.W2(value)\n",
    "    shape_checker(w2_key, ('batch', 's', 'attn_units'))\n",
    "\n",
    "    query_mask = tf.ones(tf.shape(query)[:-1], dtype=bool)\n",
    "    value_mask = mask\n",
    "\n",
    "    context_vector, attention_weights = self.attention(\n",
    "        inputs = [w1_query, value, w2_key],\n",
    "        mask=[query_mask, value_mask],\n",
    "        return_attention_scores = True,\n",
    "    )\n",
    "    shape_checker(context_vector, ('batch', 't', 'value_units'))\n",
    "    shape_checker(attention_weights, ('batch', 't', 's'))\n",
    "\n",
    "    return context_vector, attention_weights"
   ]
  },
  {
   "cell_type": "markdown",
   "metadata": {
    "id": "Cf13LubPGjDO"
   },
   "source": [
    "### Test the Attention layer\n",
    "\n",
    "Create a `BahdanauAttention` layer:"
   ]
  },
  {
   "cell_type": "code",
   "execution_count": 62,
   "metadata": {
    "execution": {
     "iopub.execute_input": "2021-08-31T11:08:19.212616Z",
     "iopub.status.busy": "2021-08-31T11:08:19.211889Z",
     "iopub.status.idle": "2021-08-31T11:08:19.213800Z",
     "shell.execute_reply": "2021-08-31T11:08:19.214182Z"
    },
    "id": "t4QMlOp8Gidh"
   },
   "outputs": [],
   "source": [
    "attention_layer = BahdanauAttention(units)"
   ]
  },
  {
   "cell_type": "markdown",
   "metadata": {
    "id": "snA1uL9AI-JE"
   },
   "source": [
    "This layer takes 3 inputs:\n",
    "\n",
    "* The `query`: This will be generated by the decoder, later.\n",
    "* The `value`: This Will be the output of the encoder.\n",
    "* The `mask`: To exclude the padding, `example_tokens != 0`"
   ]
  },
  {
   "cell_type": "code",
   "execution_count": 63,
   "metadata": {
    "execution": {
     "iopub.execute_input": "2021-08-31T11:08:19.218884Z",
     "iopub.status.busy": "2021-08-31T11:08:19.218177Z",
     "iopub.status.idle": "2021-08-31T11:08:19.220845Z",
     "shell.execute_reply": "2021-08-31T11:08:19.221211Z"
    },
    "id": "DYSHqmORgVFo"
   },
   "outputs": [
    {
     "data": {
      "text/plain": [
       "TensorShape([64, 14])"
      ]
     },
     "execution_count": 63,
     "metadata": {},
     "output_type": "execute_result"
    }
   ],
   "source": [
    "(example_tokens != 0).shape"
   ]
  },
  {
   "cell_type": "markdown",
   "metadata": {
    "id": "g2bmvT25pXnr"
   },
   "source": [
    "The vectorized implementation of the attention layer lets you pass a batch of sequences of query vectors and a batch of sequence of value vectors. The result is:\n",
    "\n",
    "1. A batch of sequences of result vectors the size of the queries.\n",
    "2. A batch attention maps, with size `(query_length, value_length)`."
   ]
  },
  {
   "cell_type": "code",
   "execution_count": 64,
   "metadata": {
    "execution": {
     "iopub.execute_input": "2021-08-31T11:08:19.226344Z",
     "iopub.status.busy": "2021-08-31T11:08:19.225424Z",
     "iopub.status.idle": "2021-08-31T11:08:19.576675Z",
     "shell.execute_reply": "2021-08-31T11:08:19.576140Z"
    },
    "id": "7y7hjPkNMmHh"
   },
   "outputs": [
    {
     "name": "stdout",
     "output_type": "stream",
     "text": [
      "Attention result shape: (batch_size, query_seq_length, units):           (64, 2, 1024)\n",
      "Attention weights shape: (batch_size, query_seq_length, value_seq_length): (64, 2, 14)\n"
     ]
    }
   ],
   "source": [
    "# Later, the decoder will generate this attention query\n",
    "example_attention_query = tf.random.normal(shape=[len(example_tokens), 2, 10])\n",
    "\n",
    "# Attend to the encoded tokens\n",
    "\n",
    "context_vector, attention_weights = attention_layer(\n",
    "    query=example_attention_query,\n",
    "    value=example_enc_output,\n",
    "    mask=(example_tokens != 0))\n",
    "\n",
    "print(f'Attention result shape: (batch_size, query_seq_length, units):           {context_vector.shape}')\n",
    "print(f'Attention weights shape: (batch_size, query_seq_length, value_seq_length): {attention_weights.shape}')"
   ]
  },
  {
   "cell_type": "markdown",
   "metadata": {
    "id": "AagyXMH-Jhqt"
   },
   "source": [
    "The attention weights should sum to `1.0` for each sequence.\n",
    "\n",
    "Here are the attention weights across the sequences at `t=0`:"
   ]
  },
  {
   "cell_type": "code",
   "execution_count": 28,
   "metadata": {
    "execution": {
     "iopub.execute_input": "2021-08-31T11:08:19.598288Z",
     "iopub.status.busy": "2021-08-31T11:08:19.597358Z",
     "iopub.status.idle": "2021-08-31T11:08:19.761987Z",
     "shell.execute_reply": "2021-08-31T11:08:19.762385Z"
    },
    "id": "Rqr8XGsAJlf6"
   },
   "outputs": [
    {
     "data": {
      "text/plain": [
       "Text(0.5, 1.0, 'Mask')"
      ]
     },
     "execution_count": 28,
     "metadata": {},
     "output_type": "execute_result"
    },
    {
     "data": {
      "image/png": "[encoded data removed]",
      "text/plain": [
       "<Figure size 432x288 with 2 Axes>"
      ]
     },
     "metadata": {
      "needs_background": "light"
     },
     "output_type": "display_data"
    }
   ],
   "source": [
    "plt.subplot(1, 2, 1)\n",
    "plt.pcolormesh(attention_weights[:, 0, :])\n",
    "plt.title('Attention weights')\n",
    "\n",
    "plt.subplot(1, 2, 2)\n",
    "plt.pcolormesh(example_tokens != 0)\n",
    "plt.title('Mask')\n"
   ]
  },
  {
   "cell_type": "markdown",
   "metadata": {
    "id": "6Eil-C_NN1rp"
   },
   "source": [
    "Because of the small-random initialization the attention weights are all close to `1/(sequence_length)`. If you zoom in on the weights for a single sequence, you can see that there is some _small_ variation that the model can learn to expand, and exploit."
   ]
  },
  {
   "cell_type": "code",
   "execution_count": 29,
   "metadata": {
    "execution": {
     "iopub.execute_input": "2021-08-31T11:08:19.767106Z",
     "iopub.status.busy": "2021-08-31T11:08:19.766404Z",
     "iopub.status.idle": "2021-08-31T11:08:19.769223Z",
     "shell.execute_reply": "2021-08-31T11:08:19.769547Z"
    },
    "id": "ZuzrCdmYlTcJ"
   },
   "outputs": [
    {
     "data": {
      "text/plain": [
       "TensorShape([64, 2, 24])"
      ]
     },
     "execution_count": 29,
     "metadata": {},
     "output_type": "execute_result"
    }
   ],
   "source": [
    "attention_weights.shape"
   ]
  },
  {
   "cell_type": "code",
   "execution_count": 30,
   "metadata": {
    "execution": {
     "iopub.execute_input": "2021-08-31T11:08:19.773787Z",
     "iopub.status.busy": "2021-08-31T11:08:19.773189Z",
     "iopub.status.idle": "2021-08-31T11:08:19.775669Z",
     "shell.execute_reply": "2021-08-31T11:08:19.775277Z"
    },
    "id": "qIMwC-f-ZC8N"
   },
   "outputs": [],
   "source": [
    "attention_slice = attention_weights[0, 0].numpy()\n",
    "attention_slice = attention_slice[attention_slice != 0]"
   ]
  },
  {
   "cell_type": "code",
   "execution_count": 31,
   "metadata": {
    "execution": {
     "iopub.execute_input": "2021-08-31T11:08:19.800823Z",
     "iopub.status.busy": "2021-08-31T11:08:19.795558Z",
     "iopub.status.idle": "2021-08-31T11:08:19.997682Z",
     "shell.execute_reply": "2021-08-31T11:08:19.998115Z"
    },
    "id": "ysWDPO6hOS8X"
   },
   "outputs": [
    {
     "data": {
      "text/plain": [
       "[<matplotlib.lines.Line2D at 0x7fc2b9997a10>]"
      ]
     },
     "execution_count": 31,
     "metadata": {},
     "output_type": "execute_result"
    },
    {
     "data": {
      "text/plain": [
       "<Figure size 432x288 with 0 Axes>"
      ]
     },
     "metadata": {},
     "output_type": "display_data"
    },
    {
     "data": {
      "image/png": "[encoded data removed]",
      "text/plain": [
       "<Figure size 864x432 with 2 Axes>"
      ]
     },
     "metadata": {
      "needs_background": "light"
     },
     "output_type": "display_data"
    }
   ],
   "source": [
    "#@title\n",
    "plt.suptitle('Attention weights for one sequence')\n",
    "\n",
    "plt.figure(figsize=(12, 6))\n",
    "a1 = plt.subplot(1, 2, 1)\n",
    "plt.bar(range(len(attention_slice)), attention_slice)\n",
    "# freeze the xlim\n",
    "plt.xlim(plt.xlim())\n",
    "plt.xlabel('Attention weights')\n",
    "\n",
    "a2 = plt.subplot(1, 2, 2)\n",
    "plt.bar(range(len(attention_slice)), attention_slice)\n",
    "plt.xlabel('Attention weights, zoomed')\n",
    "\n",
    "# zoom in\n",
    "top = max(a1.get_ylim())\n",
    "zoom = 0.85*top\n",
    "a2.set_ylim([0.90*top, top])\n",
    "a1.plot(a1.get_xlim(), [zoom, zoom], color='k')"
   ]
  },
  {
   "cell_type": "markdown",
   "metadata": {
    "id": "aQ638eHN4iCK"
   },
   "source": [
    "### The decoder\n",
    "\n",
    "The decoder's job is to generate predictions for the next output token.\n",
    "\n",
    "1. The decoder receives the complete encoder output.\n",
    "2. It uses an RNN to keep track of what it has generated so far.\n",
    "3. It uses its RNN output as the query to the attention over the encoder's output, producing the context vector.\n",
    "4. It combines the RNN output and the context vector using Equation 3 (below) to generate the \"attention vector\".\n",
    "5. It generates logit predictions for the next token based on the \"attention vector\".\n",
    "\n",
    "<img src=\"images/attention_equation_3.jpg\" alt=\"attention equation 3\" width=\"800\">\n"
   ]
  },
  {
   "cell_type": "markdown",
   "metadata": {
    "id": "pZsQJMqNmg_L"
   },
   "source": [
    "Here is the `Decoder` class and its initializer. The initializer creates all the necessary layers."
   ]
  },
  {
   "cell_type": "code",
   "execution_count": 32,
   "metadata": {
    "execution": {
     "iopub.execute_input": "2021-08-31T11:08:20.005566Z",
     "iopub.status.busy": "2021-08-31T11:08:20.004895Z",
     "iopub.status.idle": "2021-08-31T11:08:20.006936Z",
     "shell.execute_reply": "2021-08-31T11:08:20.007326Z"
    },
    "id": "erYvHIgAl8kh"
   },
   "outputs": [],
   "source": [
    "class Decoder(tf.keras.layers.Layer):\n",
    "  def __init__(self, output_vocab_size, embedding_dim, dec_units):\n",
    "    super(Decoder, self).__init__()\n",
    "    self.dec_units = dec_units\n",
    "    self.output_vocab_size = output_vocab_size\n",
    "    self.embedding_dim = embedding_dim\n",
    "\n",
    "    # For Step 1. The embedding layer convets token IDs to vectors\n",
    "    self.embedding = tf.keras.layers.Embedding(self.output_vocab_size,\n",
    "                                               embedding_dim)\n",
    "\n",
    "    # For Step 2. The RNN keeps track of what's been generated so far.\n",
    "    self.gru = tf.keras.layers.GRU(self.dec_units,\n",
    "                                   return_sequences=True,\n",
    "                                   return_state=True,\n",
    "                                   recurrent_initializer='glorot_uniform')\n",
    "\n",
    "    # For step 3. The RNN output will be the query for the attention layer.\n",
    "    self.attention = BahdanauAttention(self.dec_units)\n",
    "\n",
    "    # For step 4. Eqn. (3): converting `ct` to `at`\n",
    "    self.Wc = tf.keras.layers.Dense(dec_units, activation=tf.math.tanh,\n",
    "                                    use_bias=False)\n",
    "\n",
    "    # For step 5. This fully connected layer produces the logits for each\n",
    "    # output token.\n",
    "    self.fc = tf.keras.layers.Dense(self.output_vocab_size)"
   ]
  },
  {
   "cell_type": "markdown",
   "metadata": {
    "id": "eUTfYHmfmwKH"
   },
   "source": [
    "The `call` method for this layer takes and returns multiple tensors. Organize those into simple container classes:"
   ]
  },
  {
   "cell_type": "code",
   "execution_count": 33,
   "metadata": {
    "execution": {
     "iopub.execute_input": "2021-08-31T11:08:20.012231Z",
     "iopub.status.busy": "2021-08-31T11:08:20.011609Z",
     "iopub.status.idle": "2021-08-31T11:08:20.014064Z",
     "shell.execute_reply": "2021-08-31T11:08:20.013542Z"
    },
    "id": "7WfSIb2sArRT"
   },
   "outputs": [],
   "source": [
    "class DecoderInput(typing.NamedTuple):\n",
    "  new_tokens: Any\n",
    "  enc_output: Any\n",
    "  mask: Any\n",
    "\n",
    "class DecoderOutput(typing.NamedTuple):\n",
    "  logits: Any\n",
    "  attention_weights: Any"
   ]
  },
  {
   "cell_type": "markdown",
   "metadata": {
    "id": "NChkl2KrnV2y"
   },
   "source": [
    "Here is the implementation of the `call` method:"
   ]
  },
  {
   "cell_type": "code",
   "execution_count": 34,
   "metadata": {
    "execution": {
     "iopub.execute_input": "2021-08-31T11:08:20.022475Z",
     "iopub.status.busy": "2021-08-31T11:08:20.021809Z",
     "iopub.status.idle": "2021-08-31T11:08:20.023653Z",
     "shell.execute_reply": "2021-08-31T11:08:20.024181Z"
    },
    "id": "PJOi5btHAPNK"
   },
   "outputs": [],
   "source": [
    "def call(self,\n",
    "         inputs: DecoderInput,\n",
    "         state=None) -> Tuple[DecoderOutput, tf.Tensor]:\n",
    "  shape_checker = ShapeChecker()\n",
    "  shape_checker(inputs.new_tokens, ('batch', 't'))\n",
    "  shape_checker(inputs.enc_output, ('batch', 's', 'enc_units'))\n",
    "  shape_checker(inputs.mask, ('batch', 's'))\n",
    "\n",
    "  if state is not None:\n",
    "    shape_checker(state, ('batch', 'dec_units'))\n",
    "\n",
    "  # Step 1. Lookup the embeddings\n",
    "  vectors = self.embedding(inputs.new_tokens)\n",
    "  shape_checker(vectors, ('batch', 't', 'embedding_dim'))\n",
    "\n",
    "  # Step 2. Process one step with the RNN\n",
    "  rnn_output, state = self.gru(vectors, initial_state=state)\n",
    "\n",
    "  shape_checker(rnn_output, ('batch', 't', 'dec_units'))\n",
    "  shape_checker(state, ('batch', 'dec_units'))\n",
    "\n",
    "  # Step 3. Use the RNN output as the query for the attention over the\n",
    "  # encoder output.\n",
    "  context_vector, attention_weights = self.attention(\n",
    "      query=rnn_output, value=inputs.enc_output, mask=inputs.mask)\n",
    "  shape_checker(context_vector, ('batch', 't', 'dec_units'))\n",
    "  shape_checker(attention_weights, ('batch', 't', 's'))\n",
    "\n",
    "  # Step 4. Eqn. (3): Join the context_vector and rnn_output\n",
    "  #     [ct; ht] shape: (batch t, value_units + query_units)\n",
    "  context_and_rnn_output = tf.concat([context_vector, rnn_output], axis=-1)\n",
    "\n",
    "  # Step 4. Eqn. (3): `at = tanh(Wc@[ct; ht])`\n",
    "  attention_vector = self.Wc(context_and_rnn_output)\n",
    "  shape_checker(attention_vector, ('batch', 't', 'dec_units'))\n",
    "\n",
    "  # Step 5. Generate logit predictions:\n",
    "  logits = self.fc(attention_vector)\n",
    "  shape_checker(logits, ('batch', 't', 'output_vocab_size'))\n",
    "\n",
    "  return DecoderOutput(logits, attention_weights), state"
   ]
  },
  {
   "cell_type": "code",
   "execution_count": 35,
   "metadata": {
    "execution": {
     "iopub.execute_input": "2021-08-31T11:08:20.027970Z",
     "iopub.status.busy": "2021-08-31T11:08:20.027385Z",
     "iopub.status.idle": "2021-08-31T11:08:20.029105Z",
     "shell.execute_reply": "2021-08-31T11:08:20.029457Z"
    },
    "id": "Ay_mTMPfnb2a"
   },
   "outputs": [],
   "source": [
    "Decoder.call = call"
   ]
  },
  {
   "cell_type": "markdown",
   "metadata": {
    "id": "arTOBklcFTiC"
   },
   "source": [
    "The **encoder** processes its full input sequence with a single call to its RNN. This implementation of the **decoder** _can_ do that as well for efficient training. But this tutorial will run the decoder in a loop for a few reasons:\n",
    "\n",
    "* Flexibility: Writing the loop gives you direct control over the training procedure.\n",
    "* Clarity: It's possible to do masking tricks and use `layers.RNN`, or `tfa.seq2seq` APIs to pack this all into a single call. But writing it out as a loop may be clearer. \n",
    "  * Loop free training is demonstrated in the [Text generation](text_generation.ipynb) tutiorial.\n"
   ]
  },
  {
   "cell_type": "markdown",
   "metadata": {
    "id": "E1-mLAcUEXpK"
   },
   "source": [
    "Now try using this decoder."
   ]
  },
  {
   "cell_type": "code",
   "execution_count": 36,
   "metadata": {
    "execution": {
     "iopub.execute_input": "2021-08-31T11:08:20.040303Z",
     "iopub.status.busy": "2021-08-31T11:08:20.039688Z",
     "iopub.status.idle": "2021-08-31T11:08:20.042068Z",
     "shell.execute_reply": "2021-08-31T11:08:20.041563Z"
    },
    "id": "4ZUMbYXIEVeA"
   },
   "outputs": [],
   "source": [
    "decoder = Decoder(output_text_processor.vocabulary_size(),\n",
    "                  embedding_dim, units)"
   ]
  },
  {
   "cell_type": "markdown",
   "metadata": {
    "id": "UPnaw583CpnY"
   },
   "source": [
    "The decoder takes 4 inputs.\n",
    "\n",
    "* `new_tokens` -  The last token generated. Initialize the decoder with the `\"[START]\"` token.\n",
    "* `enc_output` - Generated by the `Encoder`.\n",
    "* `mask` - A boolean tensor indicating where `tokens != 0`\n",
    "* `state` - The previous `state` output from the decoder (the internal state\n",
    "  of the decoder's RNN). Pass `None` to zero-initialize it. The original\n",
    "  paper initializes it from the encoder's final RNN state. "
   ]
  },
  {
   "cell_type": "code",
   "execution_count": 37,
   "metadata": {
    "execution": {
     "iopub.execute_input": "2021-08-31T11:08:20.046807Z",
     "iopub.status.busy": "2021-08-31T11:08:20.046156Z",
     "iopub.status.idle": "2021-08-31T11:08:20.061438Z",
     "shell.execute_reply": "2021-08-31T11:08:20.061829Z"
    },
    "id": "4u6eJBU4GL40"
   },
   "outputs": [],
   "source": [
    "# Convert the target sequence, and collect the \"[START]\" tokens\n",
    "example_output_tokens = output_text_processor(example_target_batch)\n",
    "\n",
    "start_index = output_text_processor.get_vocabulary().index('[START]')\n",
    "first_token = tf.constant([[start_index]] * example_output_tokens.shape[0])"
   ]
  },
  {
   "cell_type": "code",
   "execution_count": 38,
   "metadata": {
    "execution": {
     "iopub.execute_input": "2021-08-31T11:08:20.066779Z",
     "iopub.status.busy": "2021-08-31T11:08:20.066201Z",
     "iopub.status.idle": "2021-08-31T11:08:20.096335Z",
     "shell.execute_reply": "2021-08-31T11:08:20.096893Z"
    },
    "id": "E5hqvbR5FUCD"
   },
   "outputs": [
    {
     "name": "stdout",
     "output_type": "stream",
     "text": [
      "logits shape: (batch_size, t, output_vocab_size) (64, 1, 5000)\n",
      "state shape: (batch_size, dec_units) (64, 1024)\n"
     ]
    }
   ],
   "source": [
    "# Run the decoder\n",
    "dec_result, dec_state = decoder(\n",
    "    inputs = DecoderInput(new_tokens=first_token,\n",
    "                          enc_output=example_enc_output,\n",
    "                          mask=(example_tokens != 0)),\n",
    "    state = example_enc_state\n",
    ")\n",
    "\n",
    "print(f'logits shape: (batch_size, t, output_vocab_size) {dec_result.logits.shape}')\n",
    "print(f'state shape: (batch_size, dec_units) {dec_state.shape}')"
   ]
  },
  {
   "cell_type": "markdown",
   "metadata": {
    "id": "vEZvXZRVPHd6"
   },
   "source": [
    "Sample a token according to the logits:"
   ]
  },
  {
   "cell_type": "code",
   "execution_count": 39,
   "metadata": {
    "execution": {
     "iopub.execute_input": "2021-08-31T11:08:20.100780Z",
     "iopub.status.busy": "2021-08-31T11:08:20.100215Z",
     "iopub.status.idle": "2021-08-31T11:08:20.102539Z",
     "shell.execute_reply": "2021-08-31T11:08:20.102094Z"
    },
    "id": "P5UY8wko3jFp"
   },
   "outputs": [],
   "source": [
    "sampled_token = tf.random.categorical(dec_result.logits[:, 0, :], num_samples=1)"
   ]
  },
  {
   "cell_type": "markdown",
   "metadata": {
    "id": "-xTpX44VkzrY"
   },
   "source": [
    "Decode the token as the first word of the output:"
   ]
  },
  {
   "cell_type": "code",
   "execution_count": 40,
   "metadata": {
    "execution": {
     "iopub.execute_input": "2021-08-31T11:08:20.106595Z",
     "iopub.status.busy": "2021-08-31T11:08:20.105993Z",
     "iopub.status.idle": "2021-08-31T11:08:20.117741Z",
     "shell.execute_reply": "2021-08-31T11:08:20.117289Z"
    },
    "id": "lKXTLYu4IV7I"
   },
   "outputs": [
    {
     "data": {
      "text/plain": [
       "array([['childhood'],\n",
       "       ['meditating'],\n",
       "       ['this'],\n",
       "       ['yell'],\n",
       "       ['minister']], dtype='<U16')"
      ]
     },
     "execution_count": 40,
     "metadata": {},
     "output_type": "execute_result"
    }
   ],
   "source": [
    "vocab = np.array(output_text_processor.get_vocabulary())\n",
    "first_word = vocab[sampled_token.numpy()]\n",
    "first_word[:5]"
   ]
  },
  {
   "cell_type": "markdown",
   "metadata": {
    "id": "LUQV6AXoQR7z"
   },
   "source": [
    "Now use the decoder to generate a second set of logits.\n",
    "\n",
    "- Pass the same `enc_output` and `mask`, these haven't changed.\n",
    "- Pass the sampled token as `new_tokens`.\n",
    "- Pass the `decoder_state` the decoder returned last time, so the RNN continues with a memory of where it left off last time.\n"
   ]
  },
  {
   "cell_type": "code",
   "execution_count": 41,
   "metadata": {
    "execution": {
     "iopub.execute_input": "2021-08-31T11:08:20.121876Z",
     "iopub.status.busy": "2021-08-31T11:08:20.121262Z",
     "iopub.status.idle": "2021-08-31T11:08:20.139821Z",
     "shell.execute_reply": "2021-08-31T11:08:20.139405Z"
    },
    "id": "pX1VF9XDJTOM"
   },
   "outputs": [],
   "source": [
    "dec_result, dec_state = decoder(\n",
    "    DecoderInput(sampled_token,\n",
    "                 example_enc_output,\n",
    "                 mask=(example_tokens != 0)),\n",
    "    state=dec_state)"
   ]
  },
  {
   "cell_type": "code",
   "execution_count": 42,
   "metadata": {
    "execution": {
     "iopub.execute_input": "2021-08-31T11:08:20.144075Z",
     "iopub.status.busy": "2021-08-31T11:08:20.143506Z",
     "iopub.status.idle": "2021-08-31T11:08:20.146645Z",
     "shell.execute_reply": "2021-08-31T11:08:20.146979Z"
    },
    "id": "H1rs0XL7Y2aS"
   },
   "outputs": [
    {
     "data": {
      "text/plain": [
       "array([['passes'],\n",
       "       ['runner'],\n",
       "       ['worthless'],\n",
       "       ['consideration'],\n",
       "       ['appearances']], dtype='<U16')"
      ]
     },
     "execution_count": 42,
     "metadata": {},
     "output_type": "execute_result"
    }
   ],
   "source": [
    "sampled_token = tf.random.categorical(dec_result.logits[:, 0, :], num_samples=1)\n",
    "first_word = vocab[sampled_token.numpy()]\n",
    "first_word[:5]"
   ]
  },
  {
   "cell_type": "markdown",
   "metadata": {
    "id": "B6xyru86m914"
   },
   "source": [
    "## Training\n",
    "\n",
    "Now that you have all the model components, it's time to start training the model. You'll need:\n",
    "\n",
    "- A loss function and optimizer to perform the optimization.\n",
    "- A training step function defining how to update the model for each input/target batch.\n",
    "- A training loop to drive the training and save checkpoints."
   ]
  },
  {
   "cell_type": "markdown",
   "metadata": {
    "id": "_ch_71VbIRfK"
   },
   "source": [
    "### Define the loss function"
   ]
  },
  {
   "cell_type": "code",
   "execution_count": 43,
   "metadata": {
    "execution": {
     "iopub.execute_input": "2021-08-31T11:08:20.152523Z",
     "iopub.status.busy": "2021-08-31T11:08:20.151899Z",
     "iopub.status.idle": "2021-08-31T11:08:20.153713Z",
     "shell.execute_reply": "2021-08-31T11:08:20.154060Z"
    },
    "id": "WmTHr5iV3jFr"
   },
   "outputs": [],
   "source": [
    "class MaskedLoss(tf.keras.losses.Loss):\n",
    "  def __init__(self):\n",
    "    self.name = 'masked_loss'\n",
    "    self.loss = tf.keras.losses.SparseCategoricalCrossentropy(\n",
    "        from_logits=True, reduction='none')\n",
    "\n",
    "  def __call__(self, y_true, y_pred):\n",
    "    shape_checker = ShapeChecker()\n",
    "    shape_checker(y_true, ('batch', 't'))\n",
    "    shape_checker(y_pred, ('batch', 't', 'logits'))\n",
    "\n",
    "    # Calculate the loss for each item in the batch.\n",
    "    loss = self.loss(y_true, y_pred)\n",
    "    shape_checker(loss, ('batch', 't'))\n",
    "\n",
    "    # Mask off the losses on padding.\n",
    "    mask = tf.cast(y_true != 0, tf.float32)\n",
    "    shape_checker(mask, ('batch', 't'))\n",
    "    loss *= mask\n",
    "\n",
    "    # Return the total.\n",
    "    return tf.reduce_sum(loss)"
   ]
  },
  {
   "cell_type": "markdown",
   "metadata": {
    "id": "M5AgEBh2S404"
   },
   "source": [
    "### Implement the training step"
   ]
  },
  {
   "cell_type": "markdown",
   "metadata": {
    "id": "r_G20Te1XSmJ"
   },
   "source": [
    "Start with a model class, the training process will be implemented as the `train_step` method on this model. See [Customizing fit](https://www.tensorflow.org/guide/keras/customizing_what_happens_in_fit) for details.\n",
    "\n",
    "Here the `train_step` method is a wrapper around the `_train_step` implementation which will come later. This wrapper includes a switch to turn on and off `tf.function` compilation, to make debugging easier."
   ]
  },
  {
   "cell_type": "code",
   "execution_count": 44,
   "metadata": {
    "execution": {
     "iopub.execute_input": "2021-08-31T11:08:20.159802Z",
     "iopub.status.busy": "2021-08-31T11:08:20.159264Z",
     "iopub.status.idle": "2021-08-31T11:08:20.161175Z",
     "shell.execute_reply": "2021-08-31T11:08:20.160768Z"
    },
    "id": "WWIyuy71TkJT"
   },
   "outputs": [],
   "source": [
    "class TrainTranslator(tf.keras.Model):\n",
    "  def __init__(self, embedding_dim, units,\n",
    "               input_text_processor,\n",
    "               output_text_processor, \n",
    "               use_tf_function=True):\n",
    "    super().__init__()\n",
    "    # Build the encoder and decoder\n",
    "    encoder = Encoder(input_text_processor.vocabulary_size(),\n",
    "                      embedding_dim, units)\n",
    "    decoder = Decoder(output_text_processor.vocabulary_size(),\n",
    "                      embedding_dim, units)\n",
    "\n",
    "    self.encoder = encoder\n",
    "    self.decoder = decoder\n",
    "    self.input_text_processor = input_text_processor\n",
    "    self.output_text_processor = output_text_processor\n",
    "    self.use_tf_function = use_tf_function\n",
    "    self.shape_checker = ShapeChecker()\n",
    "\n",
    "  def train_step(self, inputs):\n",
    "    self.shape_checker = ShapeChecker()\n",
    "    if self.use_tf_function:\n",
    "      return self._tf_train_step(inputs)\n",
    "    else:\n",
    "      return self._train_step(inputs)"
   ]
  },
  {
   "cell_type": "markdown",
   "metadata": {
    "id": "-i0i1x6jwsLm"
   },
   "source": [
    "Overall the implementation for the `Model.train_step` method is as follows:\n",
    "\n",
    "1. Receive a batch of `input_text, target_text` from the `tf.data.Dataset`.\n",
    "2. Convert those raw text inputs to token-embeddings and masks. \n",
    "3. Run the encoder on the `input_tokens` to get the `encoder_output` and `encoder_state`.\n",
    "4. Initialize the decoder state and loss. \n",
    "5. Loop over the `target_tokens`:\n",
    "   1. Run the decoder one step at a time.\n",
    "   2. Calculate the loss for each step.\n",
    "   3. Accumulate the average loss.\n",
    "6. Calculate the gradient of the loss and use the optimizer to apply updates to the model's `trainable_variables`."
   ]
  },
  {
   "cell_type": "markdown",
   "metadata": {
    "id": "ngBjFw4BU5G7"
   },
   "source": [
    "The `_preprocess` method, added below, implements steps #1 and #2: "
   ]
  },
  {
   "cell_type": "code",
   "execution_count": 45,
   "metadata": {
    "execution": {
     "iopub.execute_input": "2021-08-31T11:08:20.166283Z",
     "iopub.status.busy": "2021-08-31T11:08:20.165698Z",
     "iopub.status.idle": "2021-08-31T11:08:20.167702Z",
     "shell.execute_reply": "2021-08-31T11:08:20.167200Z"
    },
    "id": "ZlYE68wzXoA8"
   },
   "outputs": [],
   "source": [
    "def _preprocess(self, input_text, target_text):\n",
    "  self.shape_checker(input_text, ('batch',))\n",
    "  self.shape_checker(target_text, ('batch',))\n",
    "\n",
    "  # Convert the text to token IDs\n",
    "  input_tokens = self.input_text_processor(input_text)\n",
    "  target_tokens = self.output_text_processor(target_text)\n",
    "  self.shape_checker(input_tokens, ('batch', 's'))\n",
    "  self.shape_checker(target_tokens, ('batch', 't'))\n",
    "\n",
    "  # Convert IDs to masks.\n",
    "  input_mask = input_tokens != 0\n",
    "  self.shape_checker(input_mask, ('batch', 's'))\n",
    "\n",
    "  target_mask = target_tokens != 0\n",
    "  self.shape_checker(target_mask, ('batch', 't'))\n",
    "\n",
    "  return input_tokens, input_mask, target_tokens, target_mask"
   ]
  },
  {
   "cell_type": "code",
   "execution_count": 46,
   "metadata": {
    "execution": {
     "iopub.execute_input": "2021-08-31T11:08:20.170652Z",
     "iopub.status.busy": "2021-08-31T11:08:20.169654Z",
     "iopub.status.idle": "2021-08-31T11:08:20.172247Z",
     "shell.execute_reply": "2021-08-31T11:08:20.172582Z"
    },
    "id": "lHy6hzStrgjQ"
   },
   "outputs": [],
   "source": [
    "TrainTranslator._preprocess = _preprocess"
   ]
  },
  {
   "cell_type": "markdown",
   "metadata": {
    "id": "d3kvbcArc2y-"
   },
   "source": [
    "The `_train_step` method, added below, handles the remaining steps except for actually running the decoder: "
   ]
  },
  {
   "cell_type": "code",
   "execution_count": 47,
   "metadata": {
    "execution": {
     "iopub.execute_input": "2021-08-31T11:08:20.179092Z",
     "iopub.status.busy": "2021-08-31T11:08:20.178538Z",
     "iopub.status.idle": "2021-08-31T11:08:20.180630Z",
     "shell.execute_reply": "2021-08-31T11:08:20.180229Z"
    },
    "id": "Qs_gsISsYPpY"
   },
   "outputs": [],
   "source": [
    "def _train_step(self, inputs):\n",
    "  input_text, target_text = inputs  \n",
    "\n",
    "  (input_tokens, input_mask,\n",
    "   target_tokens, target_mask) = self._preprocess(input_text, target_text)\n",
    "\n",
    "  max_target_length = tf.shape(target_tokens)[1]\n",
    "\n",
    "  with tf.GradientTape() as tape:\n",
    "    # Encode the input\n",
    "    enc_output, enc_state = self.encoder(input_tokens)\n",
    "    self.shape_checker(enc_output, ('batch', 's', 'enc_units'))\n",
    "    self.shape_checker(enc_state, ('batch', 'enc_units'))\n",
    "\n",
    "    # Initialize the decoder's state to the encoder's final state.\n",
    "    # This only works if the encoder and decoder have the same number of\n",
    "    # units.\n",
    "    dec_state = enc_state\n",
    "    loss = tf.constant(0.0)\n",
    "\n",
    "    for t in tf.range(max_target_length-1):\n",
    "      # Pass in two tokens from the target sequence:\n",
    "      # 1. The current input to the decoder.\n",
    "      # 2. The target the target for the decoder's next prediction.\n",
    "      new_tokens = target_tokens[:, t:t+2]\n",
    "      step_loss, dec_state = self._loop_step(new_tokens, input_mask,\n",
    "                                             enc_output, dec_state)\n",
    "      loss = loss + step_loss\n",
    "\n",
    "    # Average the loss over all non padding tokens.\n",
    "    average_loss = loss / tf.reduce_sum(tf.cast(target_mask, tf.float32))\n",
    "\n",
    "  # Apply an optimization step\n",
    "  variables = self.trainable_variables \n",
    "  gradients = tape.gradient(average_loss, variables)\n",
    "  self.optimizer.apply_gradients(zip(gradients, variables))\n",
    "\n",
    "  # Return a dict mapping metric names to current value\n",
    "  return {'batch_loss': average_loss}"
   ]
  },
  {
   "cell_type": "code",
   "execution_count": 48,
   "metadata": {
    "execution": {
     "iopub.execute_input": "2021-08-31T11:08:20.184046Z",
     "iopub.status.busy": "2021-08-31T11:08:20.183515Z",
     "iopub.status.idle": "2021-08-31T11:08:20.185597Z",
     "shell.execute_reply": "2021-08-31T11:08:20.185218Z"
    },
    "id": "KGwWHIxLrjGR"
   },
   "outputs": [],
   "source": [
    "TrainTranslator._train_step = _train_step"
   ]
  },
  {
   "cell_type": "markdown",
   "metadata": {
    "id": "F7g40o-mXyt5"
   },
   "source": [
    "The `_loop_step` method, added below, executes the decoder and calculates the incremental loss and new decoder state (`dec_state`)."
   ]
  },
  {
   "cell_type": "code",
   "execution_count": 49,
   "metadata": {
    "execution": {
     "iopub.execute_input": "2021-08-31T11:08:20.190807Z",
     "iopub.status.busy": "2021-08-31T11:08:20.190261Z",
     "iopub.status.idle": "2021-08-31T11:08:20.192081Z",
     "shell.execute_reply": "2021-08-31T11:08:20.192441Z"
    },
    "id": "9VrzgwztXzYJ"
   },
   "outputs": [],
   "source": [
    "def _loop_step(self, new_tokens, input_mask, enc_output, dec_state):\n",
    "  input_token, target_token = new_tokens[:, 0:1], new_tokens[:, 1:2]\n",
    "\n",
    "  # Run the decoder one step.\n",
    "  decoder_input = DecoderInput(new_tokens=input_token,\n",
    "                               enc_output=enc_output,\n",
    "                               mask=input_mask)\n",
    "\n",
    "  dec_result, dec_state = self.decoder(decoder_input, state=dec_state)\n",
    "  self.shape_checker(dec_result.logits, ('batch', 't1', 'logits'))\n",
    "  self.shape_checker(dec_result.attention_weights, ('batch', 't1', 's'))\n",
    "  self.shape_checker(dec_state, ('batch', 'dec_units'))\n",
    "\n",
    "  # `self.loss` returns the total for non-padded tokens\n",
    "  y = target_token\n",
    "  y_pred = dec_result.logits\n",
    "  step_loss = self.loss(y, y_pred)\n",
    "\n",
    "  return step_loss, dec_state"
   ]
  },
  {
   "cell_type": "code",
   "execution_count": 50,
   "metadata": {
    "execution": {
     "iopub.execute_input": "2021-08-31T11:08:20.195638Z",
     "iopub.status.busy": "2021-08-31T11:08:20.194522Z",
     "iopub.status.idle": "2021-08-31T11:08:20.197383Z",
     "shell.execute_reply": "2021-08-31T11:08:20.197725Z"
    },
    "id": "xj3I7VULrk1R"
   },
   "outputs": [],
   "source": [
    "TrainTranslator._loop_step = _loop_step"
   ]
  },
  {
   "cell_type": "markdown",
   "metadata": {
    "id": "WACCHvKWBQ9C"
   },
   "source": [
    "### Test the training step\n",
    "\n",
    "Build a `TrainTranslator`, and configure it for training using the `Model.compile` method:"
   ]
  },
  {
   "cell_type": "code",
   "execution_count": 51,
   "metadata": {
    "execution": {
     "iopub.execute_input": "2021-08-31T11:08:20.202741Z",
     "iopub.status.busy": "2021-08-31T11:08:20.202180Z",
     "iopub.status.idle": "2021-08-31T11:08:20.220849Z",
     "shell.execute_reply": "2021-08-31T11:08:20.221180Z"
    },
    "id": "OA6bCske8TXm"
   },
   "outputs": [],
   "source": [
    "translator = TrainTranslator(\n",
    "    embedding_dim, units,\n",
    "    input_text_processor=input_text_processor,\n",
    "    output_text_processor=output_text_processor,\n",
    "    use_tf_function=False)\n",
    "\n",
    "# Configure the loss and optimizer\n",
    "translator.compile(\n",
    "    optimizer=tf.optimizers.Adam(),\n",
    "    loss=MaskedLoss(),\n",
    ")"
   ]
  },
  {
   "cell_type": "markdown",
   "metadata": {
    "id": "6y5OnZDsB3sB"
   },
   "source": [
    "Test out the `train_step`. For a text model like this the loss should start near:"
   ]
  },
  {
   "cell_type": "code",
   "execution_count": 52,
   "metadata": {
    "execution": {
     "iopub.execute_input": "2021-08-31T11:08:20.225223Z",
     "iopub.status.busy": "2021-08-31T11:08:20.224300Z",
     "iopub.status.idle": "2021-08-31T11:08:20.227890Z",
     "shell.execute_reply": "2021-08-31T11:08:20.227452Z"
    },
    "id": "zHe-OudqCFGK"
   },
   "outputs": [
    {
     "data": {
      "text/plain": [
       "8.517193191416238"
      ]
     },
     "execution_count": 52,
     "metadata": {},
     "output_type": "execute_result"
    }
   ],
   "source": [
    "np.log(output_text_processor.vocabulary_size())"
   ]
  },
  {
   "cell_type": "code",
   "execution_count": 53,
   "metadata": {
    "execution": {
     "iopub.execute_input": "2021-08-31T11:08:20.232540Z",
     "iopub.status.busy": "2021-08-31T11:08:20.231963Z",
     "iopub.status.idle": "2021-08-31T11:08:25.403950Z",
     "shell.execute_reply": "2021-08-31T11:08:25.403494Z"
    },
    "id": "VwMU9cFEfjha"
   },
   "outputs": [
    {
     "name": "stdout",
     "output_type": "stream",
     "text": [
      "{'batch_loss': <tf.Tensor: shape=(), dtype=float32, numpy=7.614782>}\n",
      "{'batch_loss': <tf.Tensor: shape=(), dtype=float32, numpy=7.5835567>}\n",
      "{'batch_loss': <tf.Tensor: shape=(), dtype=float32, numpy=7.5252647>}\n",
      "{'batch_loss': <tf.Tensor: shape=(), dtype=float32, numpy=7.361221>}\n",
      "{'batch_loss': <tf.Tensor: shape=(), dtype=float32, numpy=6.7776713>}\n",
      "{'batch_loss': <tf.Tensor: shape=(), dtype=float32, numpy=5.271942>}\n",
      "{'batch_loss': <tf.Tensor: shape=(), dtype=float32, numpy=4.822084>}\n",
      "{'batch_loss': <tf.Tensor: shape=(), dtype=float32, numpy=4.702935>}\n",
      "{'batch_loss': <tf.Tensor: shape=(), dtype=float32, numpy=4.303531>}\n",
      "{'batch_loss': <tf.Tensor: shape=(), dtype=float32, numpy=4.150844>}\n",
      "\n",
      "CPU times: user 5.21 s, sys: 0 ns, total: 5.21 s\n",
      "Wall time: 5.17 s\n"
     ]
    }
   ],
   "source": [
    "%%time\n",
    "for n in range(10):\n",
    "  print(translator.train_step([example_input_batch, example_target_batch]))\n",
    "print()"
   ]
  },
  {
   "cell_type": "markdown",
   "metadata": {
    "id": "A-xqtsMbCUp2"
   },
   "source": [
    "While it's easier to debug without a `tf.function` it does give a performance boost. So now that the `_train_step` method is working, try the `tf.function`-wrapped `_tf_train_step`, to maximize performance while training:"
   ]
  },
  {
   "cell_type": "code",
   "execution_count": 54,
   "metadata": {
    "execution": {
     "iopub.execute_input": "2021-08-31T11:08:25.409156Z",
     "iopub.status.busy": "2021-08-31T11:08:25.408419Z",
     "iopub.status.idle": "2021-08-31T11:08:25.410386Z",
     "shell.execute_reply": "2021-08-31T11:08:25.410743Z"
    },
    "id": "UFUsTKQx0jaH"
   },
   "outputs": [],
   "source": [
    "@tf.function(input_signature=[[tf.TensorSpec(dtype=tf.string, shape=[None]),\n",
    "                               tf.TensorSpec(dtype=tf.string, shape=[None])]])\n",
    "def _tf_train_step(self, inputs):\n",
    "  return self._train_step(inputs)"
   ]
  },
  {
   "cell_type": "code",
   "execution_count": 55,
   "metadata": {
    "execution": {
     "iopub.execute_input": "2021-08-31T11:08:25.414762Z",
     "iopub.status.busy": "2021-08-31T11:08:25.413970Z",
     "iopub.status.idle": "2021-08-31T11:08:25.416252Z",
     "shell.execute_reply": "2021-08-31T11:08:25.416585Z"
    },
    "id": "2-bgU59jrztQ"
   },
   "outputs": [],
   "source": [
    "TrainTranslator._tf_train_step = _tf_train_step"
   ]
  },
  {
   "cell_type": "code",
   "execution_count": 56,
   "metadata": {
    "execution": {
     "iopub.execute_input": "2021-08-31T11:08:25.420410Z",
     "iopub.status.busy": "2021-08-31T11:08:25.419618Z",
     "iopub.status.idle": "2021-08-31T11:08:25.422253Z",
     "shell.execute_reply": "2021-08-31T11:08:25.421704Z"
    },
    "id": "KC8bRv_Gr3H9"
   },
   "outputs": [],
   "source": [
    "translator.use_tf_function = True"
   ]
  },
  {
   "cell_type": "markdown",
   "metadata": {
    "id": "EKMYNF_sIFb9"
   },
   "source": [
    "The first call will be slow, because it traces the function."
   ]
  },
  {
   "cell_type": "code",
   "execution_count": 57,
   "metadata": {
    "execution": {
     "iopub.execute_input": "2021-08-31T11:08:25.427570Z",
     "iopub.status.busy": "2021-08-31T11:08:25.426760Z",
     "iopub.status.idle": "2021-08-31T11:08:29.230532Z",
     "shell.execute_reply": "2021-08-31T11:08:29.229925Z"
    },
    "id": "pLQZsX2dp1QK"
   },
   "outputs": [
    {
     "name": "stderr",
     "output_type": "stream",
     "text": [
      "2021-08-31 11:08:27.919851: E tensorflow/core/grappler/optimizers/meta_optimizer.cc:801] function_optimizer failed: Invalid argument: Input 6 of node gradient_tape/while/while_grad/body/_531/gradient_tape/while/gradients/while/decoder_1/gru_3/PartitionedCall_grad/PartitionedCall was passed variant from gradient_tape/while/while_grad/body/_531/gradient_tape/while/gradients/while/decoder_1/gru_3/PartitionedCall_grad/TensorListPopBack_2:1 incompatible with expected float.\n",
      "2021-08-31 11:08:28.004195: E tensorflow/core/grappler/optimizers/meta_optimizer.cc:801] shape_optimizer failed: Out of range: src_output = 25, but num_outputs is only 25\n",
      "2021-08-31 11:08:28.044145: E tensorflow/core/grappler/optimizers/meta_optimizer.cc:801] layout failed: Out of range: src_output = 25, but num_outputs is only 25\n",
      "2021-08-31 11:08:28.169643: E tensorflow/core/grappler/optimizers/meta_optimizer.cc:801] function_optimizer failed: Invalid argument: Input 6 of node gradient_tape/while/while_grad/body/_531/gradient_tape/while/gradients/while/decoder_1/gru_3/PartitionedCall_grad/PartitionedCall was passed variant from gradient_tape/while/while_grad/body/_531/gradient_tape/while/gradients/while/decoder_1/gru_3/PartitionedCall_grad/TensorListPopBack_2:1 incompatible with expected float.\n",
      "2021-08-31 11:08:28.227653: E tensorflow/core/grappler/optimizers/meta_optimizer.cc:801] shape_optimizer failed: Out of range: src_output = 25, but num_outputs is only 25\n",
      "2021-08-31 11:08:28.301920: W tensorflow/core/common_runtime/process_function_library_runtime.cc:841] Ignoring multi-device function optimization failure: Invalid argument: Input 1 of node while/body/_1/while/TensorListPushBack_56 was passed float from while/body/_1/while/decoder_1/gru_3/PartitionedCall:6 incompatible with expected variant.\n"
     ]
    },
    {
     "data": {
      "text/plain": [
       "{'batch_loss': <tf.Tensor: shape=(), dtype=float32, numpy=4.0628138>}"
      ]
     },
     "execution_count": 57,
     "metadata": {},
     "output_type": "execute_result"
    }
   ],
   "source": [
    "translator.train_step([example_input_batch, example_target_batch])"
   ]
  },
  {
   "cell_type": "markdown",
   "metadata": {
    "id": "W3t2Hg7UISYi"
   },
   "source": [
    "But after that it's usually 2-3x faster than the eager `train_step` method:"
   ]
  },
  {
   "cell_type": "code",
   "execution_count": 58,
   "metadata": {
    "execution": {
     "iopub.execute_input": "2021-08-31T11:08:29.236192Z",
     "iopub.status.busy": "2021-08-31T11:08:29.235394Z",
     "iopub.status.idle": "2021-08-31T11:08:31.276993Z",
     "shell.execute_reply": "2021-08-31T11:08:31.277407Z"
    },
    "id": "UzXXMwjXCqqh"
   },
   "outputs": [
    {
     "name": "stdout",
     "output_type": "stream",
     "text": [
      "{'batch_loss': <tf.Tensor: shape=(), dtype=float32, numpy=4.049926>}\n",
      "{'batch_loss': <tf.Tensor: shape=(), dtype=float32, numpy=4.0373826>}\n",
      "{'batch_loss': <tf.Tensor: shape=(), dtype=float32, numpy=3.9870682>}\n",
      "{'batch_loss': <tf.Tensor: shape=(), dtype=float32, numpy=3.885584>}\n",
      "{'batch_loss': <tf.Tensor: shape=(), dtype=float32, numpy=3.812589>}\n",
      "{'batch_loss': <tf.Tensor: shape=(), dtype=float32, numpy=3.7273908>}\n",
      "{'batch_loss': <tf.Tensor: shape=(), dtype=float32, numpy=3.6570778>}\n",
      "{'batch_loss': <tf.Tensor: shape=(), dtype=float32, numpy=3.6586785>}\n",
      "{'batch_loss': <tf.Tensor: shape=(), dtype=float32, numpy=3.598234>}\n",
      "{'batch_loss': <tf.Tensor: shape=(), dtype=float32, numpy=3.5944993>}\n",
      "\n",
      "CPU times: user 5.26 s, sys: 1.16 s, total: 6.42 s\n",
      "Wall time: 2.04 s\n"
     ]
    }
   ],
   "source": [
    "%%time\n",
    "for n in range(10):\n",
    "  print(translator.train_step([example_input_batch, example_target_batch]))\n",
    "print()"
   ]
  },
  {
   "cell_type": "markdown",
   "metadata": {
    "id": "OIvigTqaEcu1"
   },
   "source": [
    "A good test of a new model is to see that it can overfit a single batch of input. Try it, the loss should quickly go to zero:"
   ]
  },
  {
   "cell_type": "code",
   "execution_count": 59,
   "metadata": {
    "execution": {
     "iopub.execute_input": "2021-08-31T11:08:31.283413Z",
     "iopub.status.busy": "2021-08-31T11:08:31.282477Z",
     "iopub.status.idle": "2021-08-31T11:08:51.859460Z",
     "shell.execute_reply": "2021-08-31T11:08:51.859016Z"
    },
    "id": "U-dIWMIBqK7b"
   },
   "outputs": [
    {
     "name": "stdout",
     "output_type": "stream",
     "text": [
      "....................................................................................................\n"
     ]
    },
    {
     "data": {
      "text/plain": [
       "[<matplotlib.lines.Line2D at 0x7fc2b90582d0>]"
      ]
     },
     "execution_count": 59,
     "metadata": {},
     "output_type": "execute_result"
    },
    {
     "data": {
      "image/png": "[encoded data removed]",
      "text/plain": [
       "<Figure size 432x288 with 1 Axes>"
      ]
     },
     "metadata": {
      "needs_background": "light"
     },
     "output_type": "display_data"
    }
   ],
   "source": [
    "losses = []\n",
    "for n in range(100):\n",
    "  print('.', end='')\n",
    "  logs = translator.train_step([example_input_batch, example_target_batch])\n",
    "  losses.append(logs['batch_loss'].numpy())\n",
    "\n",
    "print()\n",
    "plt.plot(losses)"
   ]
  },
  {
   "cell_type": "markdown",
   "metadata": {
    "id": "aI02XFjoEt1k"
   },
   "source": [
    "Now that you're confident that the training step is working, build a fresh copy of the model to train from scratch:"
   ]
  },
  {
   "cell_type": "code",
   "execution_count": 60,
   "metadata": {
    "execution": {
     "iopub.execute_input": "2021-08-31T11:08:51.864726Z",
     "iopub.status.busy": "2021-08-31T11:08:51.864154Z",
     "iopub.status.idle": "2021-08-31T11:08:51.878439Z",
     "shell.execute_reply": "2021-08-31T11:08:51.878790Z"
    },
    "id": "Emgfgh4tAmJt"
   },
   "outputs": [],
   "source": [
    "train_translator = TrainTranslator(\n",
    "    embedding_dim, units,\n",
    "    input_text_processor=input_text_processor,\n",
    "    output_text_processor=output_text_processor)\n",
    "\n",
    "# Configure the loss and optimizer\n",
    "train_translator.compile(\n",
    "    optimizer=tf.optimizers.Adam(),\n",
    "    loss=MaskedLoss(),\n",
    ")"
   ]
  },
  {
   "cell_type": "markdown",
   "metadata": {
    "id": "hpObfY22IddU"
   },
   "source": [
    "### Train the model\n",
    "\n",
    "While there's nothing wrong with writing your own custom training loop, implementing the `Model.train_step` method, as in the previous section, allows you to run `Model.fit` and avoid rewriting all that boiler-plate code. \n",
    "\n",
    "This tutorial only trains for a couple of epochs, so use a `callbacks.Callback` to collect the history of batch losses, for plotting:"
   ]
  },
  {
   "cell_type": "code",
   "execution_count": 61,
   "metadata": {
    "execution": {
     "iopub.execute_input": "2021-08-31T11:08:51.883635Z",
     "iopub.status.busy": "2021-08-31T11:08:51.882994Z",
     "iopub.status.idle": "2021-08-31T11:08:51.885076Z",
     "shell.execute_reply": "2021-08-31T11:08:51.885429Z"
    },
    "id": "J7m4mtnj80sq"
   },
   "outputs": [],
   "source": [
    "class BatchLogs(tf.keras.callbacks.Callback):\n",
    "  def __init__(self, key):\n",
    "    self.key = key\n",
    "    self.logs = []\n",
    "\n",
    "  def on_train_batch_end(self, n, logs):\n",
    "    self.logs.append(logs[self.key])\n",
    "\n",
    "batch_loss = BatchLogs('batch_loss')"
   ]
  },
  {
   "cell_type": "code",
   "execution_count": 62,
   "metadata": {
    "execution": {
     "iopub.execute_input": "2021-08-31T11:08:51.889472Z",
     "iopub.status.busy": "2021-08-31T11:08:51.888872Z",
     "iopub.status.idle": "2021-08-31T11:25:41.165484Z",
     "shell.execute_reply": "2021-08-31T11:25:41.165832Z"
    },
    "id": "BQd_esVVoSf3"
   },
   "outputs": [
    {
     "name": "stdout",
     "output_type": "stream",
     "text": [
      "Epoch 1/3\n"
     ]
    },
    {
     "name": "stderr",
     "output_type": "stream",
     "text": [
      "2021-08-31 11:08:55.431052: E tensorflow/core/grappler/optimizers/meta_optimizer.cc:801] function_optimizer failed: Invalid argument: Input 6 of node StatefulPartitionedCall/gradient_tape/while/while_grad/body/_589/gradient_tape/while/gradients/while/decoder_2/gru_5/PartitionedCall_grad/PartitionedCall was passed variant from StatefulPartitionedCall/gradient_tape/while/while_grad/body/_589/gradient_tape/while/gradients/while/decoder_2/gru_5/PartitionedCall_grad/TensorListPopBack_2:1 incompatible with expected float.\n",
      "2021-08-31 11:08:55.515851: E tensorflow/core/grappler/optimizers/meta_optimizer.cc:801] shape_optimizer failed: Out of range: src_output = 25, but num_outputs is only 25\n",
      "2021-08-31 11:08:55.556380: E tensorflow/core/grappler/optimizers/meta_optimizer.cc:801] layout failed: Out of range: src_output = 25, but num_outputs is only 25\n",
      "2021-08-31 11:08:55.674137: E tensorflow/core/grappler/optimizers/meta_optimizer.cc:801] function_optimizer failed: Invalid argument: Input 6 of node StatefulPartitionedCall/gradient_tape/while/while_grad/body/_589/gradient_tape/while/gradients/while/decoder_2/gru_5/PartitionedCall_grad/PartitionedCall was passed variant from StatefulPartitionedCall/gradient_tape/while/while_grad/body/_589/gradient_tape/while/gradients/while/decoder_2/gru_5/PartitionedCall_grad/TensorListPopBack_2:1 incompatible with expected float.\n",
      "2021-08-31 11:08:55.729119: E tensorflow/core/grappler/optimizers/meta_optimizer.cc:801] shape_optimizer failed: Out of range: src_output = 25, but num_outputs is only 25\n",
      "2021-08-31 11:08:55.802715: W tensorflow/core/common_runtime/process_function_library_runtime.cc:841] Ignoring multi-device function optimization failure: Invalid argument: Input 1 of node StatefulPartitionedCall/while/body/_59/while/TensorListPushBack_56 was passed float from StatefulPartitionedCall/while/body/_59/while/decoder_2/gru_5/PartitionedCall:6 incompatible with expected variant.\n"
     ]
    },
    {
     "name": "stdout",
     "output_type": "stream",
     "text": [
      "1859/1859 [==============================] - 353s 187ms/step - batch_loss: 2.0502\n",
      "Epoch 2/3\n",
      "1859/1859 [==============================] - 333s 179ms/step - batch_loss: 1.0388\n",
      "Epoch 3/3\n",
      "1859/1859 [==============================] - 323s 174ms/step - batch_loss: 0.8104\n"
     ]
    },
    {
     "data": {
      "text/plain": [
       "<keras.callbacks.History at 0x7fc2ccb315d0>"
      ]
     },
     "execution_count": 62,
     "metadata": {},
     "output_type": "execute_result"
    }
   ],
   "source": [
    "train_translator.fit(dataset, epochs=3,\n",
    "                     callbacks=[batch_loss])"
   ]
  },
  {
   "cell_type": "code",
   "execution_count": 63,
   "metadata": {
    "execution": {
     "iopub.execute_input": "2021-08-31T11:25:41.186759Z",
     "iopub.status.busy": "2021-08-31T11:25:41.186206Z",
     "iopub.status.idle": "2021-08-31T11:25:41.287085Z",
     "shell.execute_reply": "2021-08-31T11:25:41.286658Z"
    },
    "id": "38rLdlmtQHCm"
   },
   "outputs": [
    {
     "data": {
      "text/plain": [
       "Text(0, 0.5, 'CE/token')"
      ]
     },
     "execution_count": 63,
     "metadata": {},
     "output_type": "execute_result"
    },
    {
     "data": {
      "image/png": "[encoded data removed]",
      "text/plain": [
       "<Figure size 432x288 with 1 Axes>"
      ]
     },
     "metadata": {
      "needs_background": "light"
     },
     "output_type": "display_data"
    }
   ],
   "source": [
    "plt.plot(batch_loss.logs)\n",
    "plt.ylim([0, 3])\n",
    "plt.xlabel('Batch #')\n",
    "plt.ylabel('CE/token')"
   ]
  },
  {
   "cell_type": "markdown",
   "metadata": {
    "id": "w0S_O_RzHmfe"
   },
   "source": [
    "The visible jumps in the plot are at the epoch boundaries."
   ]
  },
  {
   "cell_type": "markdown",
   "metadata": {
    "id": "mU3Ce8M6I3rz"
   },
   "source": [
    "## Translate\n",
    "\n",
    "Now that the model is trained, implement a function to execute the full `text => text` translation.\n",
    "\n",
    "For this the model needs to invert the `text => token IDs` mapping provided by the `output_text_processor`. It also needs to know the IDs for special tokens. This is all implemented in the constructor for the new class. The implementation of the actual translate method will follow.\n",
    "\n",
    "Overall this is similar to the training loop, except that the input to the decoder at each time step is a sample from the decoder's last prediction."
   ]
  },
  {
   "cell_type": "code",
   "execution_count": 64,
   "metadata": {
    "execution": {
     "iopub.execute_input": "2021-08-31T11:25:41.293626Z",
     "iopub.status.busy": "2021-08-31T11:25:41.293064Z",
     "iopub.status.idle": "2021-08-31T11:25:41.294963Z",
     "shell.execute_reply": "2021-08-31T11:25:41.295306Z"
    },
    "id": "PO-CLL1LVBbM"
   },
   "outputs": [],
   "source": [
    "class Translator(tf.Module):\n",
    "\n",
    "  def __init__(self, encoder, decoder, input_text_processor,\n",
    "               output_text_processor):\n",
    "    self.encoder = encoder\n",
    "    self.decoder = decoder\n",
    "    self.input_text_processor = input_text_processor\n",
    "    self.output_text_processor = output_text_processor\n",
    "\n",
    "    self.output_token_string_from_index = (\n",
    "        tf.keras.layers.experimental.preprocessing.StringLookup(\n",
    "            vocabulary=output_text_processor.get_vocabulary(),\n",
    "            mask_token='',\n",
    "            invert=True))\n",
    "\n",
    "    # The output should never generate padding, unknown, or start.\n",
    "    index_from_string = tf.keras.layers.experimental.preprocessing.StringLookup(\n",
    "        vocabulary=output_text_processor.get_vocabulary(), mask_token='')\n",
    "    token_mask_ids = index_from_string(['', '[UNK]', '[START]']).numpy()\n",
    "\n",
    "    token_mask = np.zeros([index_from_string.vocabulary_size()], dtype=np.bool)\n",
    "    token_mask[np.array(token_mask_ids)] = True\n",
    "    self.token_mask = token_mask\n",
    "\n",
    "    self.start_token = index_from_string(tf.constant('[START]'))\n",
    "    self.end_token = index_from_string(tf.constant('[END]'))"
   ]
  },
  {
   "cell_type": "code",
   "execution_count": 65,
   "metadata": {
    "execution": {
     "iopub.execute_input": "2021-08-31T11:25:41.299109Z",
     "iopub.status.busy": "2021-08-31T11:25:41.298578Z",
     "iopub.status.idle": "2021-08-31T11:25:41.466773Z",
     "shell.execute_reply": "2021-08-31T11:25:41.466266Z"
    },
    "id": "iBQzFZ9uWU79"
   },
   "outputs": [],
   "source": [
    "translator = Translator(\n",
    "    encoder=train_translator.encoder,\n",
    "    decoder=train_translator.decoder,\n",
    "    input_text_processor=input_text_processor,\n",
    "    output_text_processor=output_text_processor,\n",
    ")"
   ]
  },
  {
   "cell_type": "markdown",
   "metadata": {
    "id": "b59PN-UxqYrU"
   },
   "source": [
    "### Convert token IDs to text"
   ]
  },
  {
   "cell_type": "markdown",
   "metadata": {
    "id": "-razg3Aso737"
   },
   "source": [
    "The first method to implement is `tokens_to_text` which converts from token IDs to human readable text."
   ]
  },
  {
   "cell_type": "code",
   "execution_count": 66,
   "metadata": {
    "execution": {
     "iopub.execute_input": "2021-08-31T11:25:41.473061Z",
     "iopub.status.busy": "2021-08-31T11:25:41.472518Z",
     "iopub.status.idle": "2021-08-31T11:25:41.473951Z",
     "shell.execute_reply": "2021-08-31T11:25:41.474305Z"
    },
    "id": "8IjwKTwtmdFf"
   },
   "outputs": [],
   "source": [
    "def tokens_to_text(self, result_tokens):\n",
    "  shape_checker = ShapeChecker()\n",
    "  shape_checker(result_tokens, ('batch', 't'))\n",
    "  result_text_tokens = self.output_token_string_from_index(result_tokens)\n",
    "  shape_checker(result_text_tokens, ('batch', 't'))\n",
    "\n",
    "  result_text = tf.strings.reduce_join(result_text_tokens,\n",
    "                                       axis=1, separator=' ')\n",
    "  shape_checker(result_text, ('batch'))\n",
    "\n",
    "  result_text = tf.strings.strip(result_text)\n",
    "  shape_checker(result_text, ('batch',))\n",
    "  return result_text"
   ]
  },
  {
   "cell_type": "code",
   "execution_count": 67,
   "metadata": {
    "execution": {
     "iopub.execute_input": "2021-08-31T11:25:41.477890Z",
     "iopub.status.busy": "2021-08-31T11:25:41.477329Z",
     "iopub.status.idle": "2021-08-31T11:25:41.478937Z",
     "shell.execute_reply": "2021-08-31T11:25:41.479280Z"
    },
    "id": "912aV0K7r90w"
   },
   "outputs": [],
   "source": [
    "Translator.tokens_to_text = tokens_to_text"
   ]
  },
  {
   "cell_type": "markdown",
   "metadata": {
    "id": "krBuAapkqNs9"
   },
   "source": [
    "Input some random token IDs and see what it generates:"
   ]
  },
  {
   "cell_type": "code",
   "execution_count": 68,
   "metadata": {
    "execution": {
     "iopub.execute_input": "2021-08-31T11:25:41.483272Z",
     "iopub.status.busy": "2021-08-31T11:25:41.482719Z",
     "iopub.status.idle": "2021-08-31T11:25:41.494145Z",
     "shell.execute_reply": "2021-08-31T11:25:41.494485Z"
    },
    "id": "cWCMHdoS32QN"
   },
   "outputs": [
    {
     "data": {
      "text/plain": [
       "array([b'divorce nodded', b'lid discovery', b'exhibition slam',\n",
       "       b'unknown jackson', b'harmful excited'], dtype=object)"
      ]
     },
     "execution_count": 68,
     "metadata": {},
     "output_type": "execute_result"
    }
   ],
   "source": [
    "example_output_tokens = tf.random.uniform(\n",
    "    shape=[5, 2], minval=0, dtype=tf.int64,\n",
    "    maxval=output_text_processor.vocabulary_size())\n",
    "translator.tokens_to_text(example_output_tokens).numpy()"
   ]
  },
  {
   "cell_type": "markdown",
   "metadata": {
    "id": "AC9De_kAqtaE"
   },
   "source": [
    "### Sample from the decoder's predictions"
   ]
  },
  {
   "cell_type": "markdown",
   "metadata": {
    "id": "q5tno-2ksJv6"
   },
   "source": [
    "This function takes the decoder's logit outputs and samples token IDs from that distribution:"
   ]
  },
  {
   "cell_type": "code",
   "execution_count": 69,
   "metadata": {
    "execution": {
     "iopub.execute_input": "2021-08-31T11:25:41.500168Z",
     "iopub.status.busy": "2021-08-31T11:25:41.499604Z",
     "iopub.status.idle": "2021-08-31T11:25:41.501381Z",
     "shell.execute_reply": "2021-08-31T11:25:41.501718Z"
    },
    "id": "8lfuj3GcdD6e"
   },
   "outputs": [],
   "source": [
    "def sample(self, logits, temperature):\n",
    "  shape_checker = ShapeChecker()\n",
    "  # 't' is usually 1 here.\n",
    "  shape_checker(logits, ('batch', 't', 'vocab'))\n",
    "  shape_checker(self.token_mask, ('vocab',))\n",
    "\n",
    "  token_mask = self.token_mask[tf.newaxis, tf.newaxis, :]\n",
    "  shape_checker(token_mask, ('batch', 't', 'vocab'), broadcast=True)\n",
    "\n",
    "  # Set the logits for all masked tokens to -inf, so they are never chosen.\n",
    "  logits = tf.where(self.token_mask, -np.inf, logits)\n",
    "\n",
    "  if temperature == 0.0:\n",
    "    new_tokens = tf.argmax(logits, axis=-1)\n",
    "  else: \n",
    "    logits = tf.squeeze(logits, axis=1)\n",
    "    new_tokens = tf.random.categorical(logits/temperature,\n",
    "                                        num_samples=1)\n",
    "  \n",
    "  shape_checker(new_tokens, ('batch', 't'))\n",
    "\n",
    "  return new_tokens"
   ]
  },
  {
   "cell_type": "code",
   "execution_count": 70,
   "metadata": {
    "execution": {
     "iopub.execute_input": "2021-08-31T11:25:41.504950Z",
     "iopub.status.busy": "2021-08-31T11:25:41.504423Z",
     "iopub.status.idle": "2021-08-31T11:25:41.506152Z",
     "shell.execute_reply": "2021-08-31T11:25:41.506485Z"
    },
    "id": "4DpDnBdBdL9_"
   },
   "outputs": [],
   "source": [
    "Translator.sample = sample"
   ]
  },
  {
   "cell_type": "markdown",
   "metadata": {
    "id": "QwdHfGEfsmy5"
   },
   "source": [
    "Test run this function on some random inputs:"
   ]
  },
  {
   "cell_type": "code",
   "execution_count": 71,
   "metadata": {
    "execution": {
     "iopub.execute_input": "2021-08-31T11:25:41.510336Z",
     "iopub.status.busy": "2021-08-31T11:25:41.509706Z",
     "iopub.status.idle": "2021-08-31T11:25:41.516534Z",
     "shell.execute_reply": "2021-08-31T11:25:41.516861Z"
    },
    "id": "rwLT0nxXym80"
   },
   "outputs": [
    {
     "data": {
      "text/plain": [
       "<tf.Tensor: shape=(5, 1), dtype=int64, numpy=\n",
       "array([[3310],\n",
       "       [4574],\n",
       "       [4746],\n",
       "       [4916],\n",
       "       [1352]])>"
      ]
     },
     "execution_count": 71,
     "metadata": {},
     "output_type": "execute_result"
    }
   ],
   "source": [
    "example_logits = tf.random.normal([5, 1, output_text_processor.vocabulary_size()])\n",
    "example_output_tokens = translator.sample(example_logits, temperature=1.0)\n",
    "example_output_tokens"
   ]
  },
  {
   "cell_type": "markdown",
   "metadata": {
    "id": "NEWIKFIJ2HWM"
   },
   "source": [
    "### Implement the translation loop\n",
    "\n",
    "Here is a complete implementation of the text to text translation loop.\n",
    "\n",
    "This implementation collects the results into python lists, before using `tf.concat` to join them into tensors.\n",
    "\n",
    "This implementation statically unrolls the graph out to `max_length` iterations.\n",
    "This is okay with eager execution in python."
   ]
  },
  {
   "cell_type": "code",
   "execution_count": 72,
   "metadata": {
    "execution": {
     "iopub.execute_input": "2021-08-31T11:25:41.524317Z",
     "iopub.status.busy": "2021-08-31T11:25:41.523764Z",
     "iopub.status.idle": "2021-08-31T11:25:41.525739Z",
     "shell.execute_reply": "2021-08-31T11:25:41.525308Z"
    },
    "id": "ZmOvVrZmwAxg"
   },
   "outputs": [],
   "source": [
    "def translate_unrolled(self,\n",
    "                       input_text, *,\n",
    "                       max_length=50,\n",
    "                       return_attention=True,\n",
    "                       temperature=1.0):\n",
    "  batch_size = tf.shape(input_text)[0]\n",
    "  input_tokens = self.input_text_processor(input_text)\n",
    "  enc_output, enc_state = self.encoder(input_tokens)\n",
    "\n",
    "  dec_state = enc_state\n",
    "  new_tokens = tf.fill([batch_size, 1], self.start_token)\n",
    "\n",
    "  result_tokens = []\n",
    "  attention = []\n",
    "  done = tf.zeros([batch_size, 1], dtype=tf.bool)\n",
    "\n",
    "  for _ in range(max_length):\n",
    "    dec_input = DecoderInput(new_tokens=new_tokens,\n",
    "                             enc_output=enc_output,\n",
    "                             mask=(input_tokens!=0))\n",
    "    \n",
    "    dec_result, dec_state = self.decoder(dec_input, state=dec_state)\n",
    "\n",
    "    attention.append(dec_result.attention_weights)\n",
    "\n",
    "    new_tokens = self.sample(dec_result.logits, temperature)\n",
    "\n",
    "    # If a sequence produces an `end_token`, set it `done`\n",
    "    done = done | (new_tokens == self.end_token)\n",
    "    # Once a sequence is done it only produces 0-padding.\n",
    "    new_tokens = tf.where(done, tf.constant(0, dtype=tf.int64), new_tokens)\n",
    "\n",
    "    # Collect the generated tokens\n",
    "    result_tokens.append(new_tokens)\n",
    "\n",
    "    if tf.executing_eagerly() and tf.reduce_all(done):\n",
    "      break\n",
    "\n",
    "  # Convert the list of generates token ids to a list of strings.\n",
    "  result_tokens = tf.concat(result_tokens, axis=-1)\n",
    "  result_text = self.tokens_to_text(result_tokens)\n",
    "\n",
    "  if return_attention:\n",
    "    attention_stack = tf.concat(attention, axis=1)\n",
    "    return {'text': result_text, 'attention': attention_stack}\n",
    "  else:\n",
    "    return {'text': result_text}\n"
   ]
  },
  {
   "cell_type": "code",
   "execution_count": 73,
   "metadata": {
    "execution": {
     "iopub.execute_input": "2021-08-31T11:25:41.528966Z",
     "iopub.status.busy": "2021-08-31T11:25:41.528438Z",
     "iopub.status.idle": "2021-08-31T11:25:41.530085Z",
     "shell.execute_reply": "2021-08-31T11:25:41.530430Z"
    },
    "id": "JOmd8Y269MG3"
   },
   "outputs": [],
   "source": [
    "Translator.translate = translate_unrolled"
   ]
  },
  {
   "cell_type": "markdown",
   "metadata": {
    "id": "NxYXf3GNKKLS"
   },
   "source": [
    "Run it on a simple input:"
   ]
  },
  {
   "cell_type": "code",
   "execution_count": 74,
   "metadata": {
    "execution": {
     "iopub.execute_input": "2021-08-31T11:25:41.535205Z",
     "iopub.status.busy": "2021-08-31T11:25:41.534585Z",
     "iopub.status.idle": "2021-08-31T11:25:41.674918Z",
     "shell.execute_reply": "2021-08-31T11:25:41.675256Z"
    },
    "id": "hd2rgyHwVVrv"
   },
   "outputs": [
    {
     "name": "stdout",
     "output_type": "stream",
     "text": [
      "it is very cold here .\n",
      "heres my life .\n",
      "\n",
      "CPU times: user 143 ms, sys: 0 ns, total: 143 ms\n",
      "Wall time: 138 ms\n"
     ]
    }
   ],
   "source": [
    "%%time\n",
    "input_text = tf.constant([\n",
    "    'hace mucho frio aqui.', # \"It's really cold here.\"\n",
    "    'Esta es mi vida.', # \"This is my life.\"\"\n",
    "])\n",
    "\n",
    "result = translator.translate(\n",
    "    input_text = input_text)\n",
    "\n",
    "print(result['text'][0].numpy().decode())\n",
    "print(result['text'][1].numpy().decode())\n",
    "print()"
   ]
  },
  {
   "cell_type": "markdown",
   "metadata": {
    "id": "S-6cFyqeUPQm"
   },
   "source": [
    "If you want to export this model you'll need to wrap this method in a `tf.function`. This basic implementation has a few issues if you try to do that:\n",
    "\n",
    "1. The resulting graphs are very large and take a few seconds to build, save or load.\n",
    "2. You can't break from a statically unrolled loop, so it will always run `max_length` iterations, even if all the outputs are done. But even then it's marginally faster than eager execution.\n"
   ]
  },
  {
   "cell_type": "code",
   "execution_count": 75,
   "metadata": {
    "execution": {
     "iopub.execute_input": "2021-08-31T11:25:41.679128Z",
     "iopub.status.busy": "2021-08-31T11:25:41.677409Z",
     "iopub.status.idle": "2021-08-31T11:25:41.681135Z",
     "shell.execute_reply": "2021-08-31T11:25:41.680732Z"
    },
    "id": "_JhTZ5hOptO-"
   },
   "outputs": [],
   "source": [
    "@tf.function(input_signature=[tf.TensorSpec(dtype=tf.string, shape=[None])])\n",
    "def tf_translate(self, input_text):\n",
    "  return self.translate(input_text)\n",
    "\n",
    "Translator.tf_translate = tf_translate"
   ]
  },
  {
   "cell_type": "markdown",
   "metadata": {
    "id": "fkccvHDvXCa8"
   },
   "source": [
    "Run the `tf.function` once to compile it:"
   ]
  },
  {
   "cell_type": "code",
   "execution_count": 76,
   "metadata": {
    "execution": {
     "iopub.execute_input": "2021-08-31T11:25:41.685719Z",
     "iopub.status.busy": "2021-08-31T11:25:41.685035Z",
     "iopub.status.idle": "2021-08-31T11:25:57.414190Z",
     "shell.execute_reply": "2021-08-31T11:25:57.414557Z"
    },
    "id": "_NzrixLvVBjQ"
   },
   "outputs": [
    {
     "name": "stdout",
     "output_type": "stream",
     "text": [
      "CPU times: user 15.8 s, sys: 0 ns, total: 15.8 s\n",
      "Wall time: 15.7 s\n"
     ]
    }
   ],
   "source": [
    "%%time\n",
    "result = translator.tf_translate(\n",
    "    input_text = input_text)"
   ]
  },
  {
   "cell_type": "code",
   "execution_count": 77,
   "metadata": {
    "execution": {
     "iopub.execute_input": "2021-08-31T11:25:57.420145Z",
     "iopub.status.busy": "2021-08-31T11:25:57.419319Z",
     "iopub.status.idle": "2021-08-31T11:25:57.488620Z",
     "shell.execute_reply": "2021-08-31T11:25:57.488969Z"
    },
    "id": "USJdu00tVFbd"
   },
   "outputs": [
    {
     "name": "stdout",
     "output_type": "stream",
     "text": [
      "its awfully cold here .\n",
      "this is my life .\n",
      "\n",
      "CPU times: user 135 ms, sys: 0 ns, total: 135 ms\n",
      "Wall time: 67.9 ms\n"
     ]
    }
   ],
   "source": [
    "%%time\n",
    "result = translator.tf_translate(\n",
    "    input_text = input_text)\n",
    "\n",
    "print(result['text'][0].numpy().decode())\n",
    "print(result['text'][1].numpy().decode())\n",
    "print()"
   ]
  },
  {
   "cell_type": "code",
   "execution_count": 78,
   "metadata": {
    "execution": {
     "iopub.execute_input": "2021-08-31T11:25:57.500027Z",
     "iopub.status.busy": "2021-08-31T11:25:57.499464Z",
     "iopub.status.idle": "2021-08-31T11:25:57.501469Z",
     "shell.execute_reply": "2021-08-31T11:25:57.501068Z"
    },
    "id": "EbQpyYs13jF_"
   },
   "outputs": [],
   "source": [
    "#@title [Optional] Use a symbolic loop\n",
    "def translate_symbolic(self,\n",
    "                       input_text,\n",
    "                       *,\n",
    "                       max_length=50,\n",
    "                       return_attention=True,\n",
    "                       temperature=1.0):\n",
    "  shape_checker = ShapeChecker()\n",
    "  shape_checker(input_text, ('batch',))\n",
    "\n",
    "  batch_size = tf.shape(input_text)[0]\n",
    "\n",
    "  # Encode the input\n",
    "  input_tokens = self.input_text_processor(input_text)\n",
    "  shape_checker(input_tokens, ('batch', 's'))\n",
    "\n",
    "  enc_output, enc_state = self.encoder(input_tokens)\n",
    "  shape_checker(enc_output, ('batch', 's', 'enc_units'))\n",
    "  shape_checker(enc_state, ('batch', 'enc_units'))\n",
    "\n",
    "  # Initialize the decoder\n",
    "  dec_state = enc_state\n",
    "  new_tokens = tf.fill([batch_size, 1], self.start_token)\n",
    "  shape_checker(new_tokens, ('batch', 't1'))\n",
    "\n",
    "  # Initialize the accumulators\n",
    "  result_tokens = tf.TensorArray(tf.int64, size=1, dynamic_size=True)\n",
    "  attention = tf.TensorArray(tf.float32, size=1, dynamic_size=True)\n",
    "  done = tf.zeros([batch_size, 1], dtype=tf.bool)\n",
    "  shape_checker(done, ('batch', 't1'))\n",
    "\n",
    "  for t in tf.range(max_length):\n",
    "    dec_input = DecoderInput(\n",
    "        new_tokens=new_tokens, enc_output=enc_output, mask=(input_tokens != 0))\n",
    "\n",
    "    dec_result, dec_state = self.decoder(dec_input, state=dec_state)\n",
    "\n",
    "    shape_checker(dec_result.attention_weights, ('batch', 't1', 's'))\n",
    "    attention = attention.write(t, dec_result.attention_weights)\n",
    "\n",
    "    new_tokens = self.sample(dec_result.logits, temperature)\n",
    "    shape_checker(dec_result.logits, ('batch', 't1', 'vocab'))\n",
    "    shape_checker(new_tokens, ('batch', 't1'))\n",
    "\n",
    "    # If a sequence produces an `end_token`, set it `done`\n",
    "    done = done | (new_tokens == self.end_token)\n",
    "    # Once a sequence is done it only produces 0-padding.\n",
    "    new_tokens = tf.where(done, tf.constant(0, dtype=tf.int64), new_tokens)\n",
    "\n",
    "    # Collect the generated tokens\n",
    "    result_tokens = result_tokens.write(t, new_tokens)\n",
    "\n",
    "    if tf.reduce_all(done):\n",
    "      break\n",
    "\n",
    "  # Convert the list of generated token ids to a list of strings.\n",
    "  result_tokens = result_tokens.stack()\n",
    "  shape_checker(result_tokens, ('t', 'batch', 't0'))\n",
    "  result_tokens = tf.squeeze(result_tokens, -1)\n",
    "  result_tokens = tf.transpose(result_tokens, [1, 0])\n",
    "  shape_checker(result_tokens, ('batch', 't'))\n",
    "\n",
    "  result_text = self.tokens_to_text(result_tokens)\n",
    "  shape_checker(result_text, ('batch',))\n",
    "\n",
    "  if return_attention:\n",
    "    attention_stack = attention.stack()\n",
    "    shape_checker(attention_stack, ('t', 'batch', 't1', 's'))\n",
    "\n",
    "    attention_stack = tf.squeeze(attention_stack, 2)\n",
    "    shape_checker(attention_stack, ('t', 'batch', 's'))\n",
    "\n",
    "    attention_stack = tf.transpose(attention_stack, [1, 0, 2])\n",
    "    shape_checker(attention_stack, ('batch', 't', 's'))\n",
    "\n",
    "    return {'text': result_text, 'attention': attention_stack}\n",
    "  else:\n",
    "    return {'text': result_text}"
   ]
  },
  {
   "cell_type": "code",
   "execution_count": 79,
   "metadata": {
    "execution": {
     "iopub.execute_input": "2021-08-31T11:25:57.504849Z",
     "iopub.status.busy": "2021-08-31T11:25:57.504311Z",
     "iopub.status.idle": "2021-08-31T11:25:57.506340Z",
     "shell.execute_reply": "2021-08-31T11:25:57.505906Z"
    },
    "id": "ngywxv1WYO_O"
   },
   "outputs": [],
   "source": [
    "Translator.translate = translate_symbolic"
   ]
  },
  {
   "cell_type": "markdown",
   "metadata": {
    "id": "lItV7qjEGsYc"
   },
   "source": [
    "The initial implementation used python lists to collect the outputs. This uses `tf.range` as the loop iterator, allowing `tf.autograph` to convert the loop. The biggest change in this implementation is the use of `tf.TensorArray` instead of python `list` to accumulate tensors. `tf.TensorArray` is required to collect a variable number of tensors in graph mode. "
   ]
  },
  {
   "cell_type": "markdown",
   "metadata": {
    "id": "AJ_NznOgZTxC"
   },
   "source": [
    "With eager execution this implementation performs on par with the original:"
   ]
  },
  {
   "cell_type": "code",
   "execution_count": 80,
   "metadata": {
    "execution": {
     "iopub.execute_input": "2021-08-31T11:25:57.510401Z",
     "iopub.status.busy": "2021-08-31T11:25:57.509828Z",
     "iopub.status.idle": "2021-08-31T11:25:57.669625Z",
     "shell.execute_reply": "2021-08-31T11:25:57.669961Z"
    },
    "id": "JRh66y-YYeBw"
   },
   "outputs": [
    {
     "name": "stdout",
     "output_type": "stream",
     "text": [
      "it is very cold here .\n",
      "youre my life .\n",
      "\n",
      "CPU times: user 164 ms, sys: 0 ns, total: 164 ms\n",
      "Wall time: 157 ms\n"
     ]
    }
   ],
   "source": [
    "%%time\n",
    "result = translator.translate(\n",
    "    input_text = input_text)\n",
    "\n",
    "print(result['text'][0].numpy().decode())\n",
    "print(result['text'][1].numpy().decode())\n",
    "print()"
   ]
  },
  {
   "cell_type": "markdown",
   "metadata": {
    "id": "l6B8W4_MZdX0"
   },
   "source": [
    "But when you wrap it in a `tf.function` you'll notice two differences."
   ]
  },
  {
   "cell_type": "code",
   "execution_count": 81,
   "metadata": {
    "execution": {
     "iopub.execute_input": "2021-08-31T11:25:57.674392Z",
     "iopub.status.busy": "2021-08-31T11:25:57.673842Z",
     "iopub.status.idle": "2021-08-31T11:25:57.675467Z",
     "shell.execute_reply": "2021-08-31T11:25:57.675804Z"
    },
    "id": "WX6EF8KtYh20"
   },
   "outputs": [],
   "source": [
    "@tf.function(input_signature=[tf.TensorSpec(dtype=tf.string, shape=[None])])\n",
    "def tf_translate(self, input_text):\n",
    "  return self.translate(input_text)\n",
    "\n",
    "Translator.tf_translate = tf_translate"
   ]
  },
  {
   "cell_type": "markdown",
   "metadata": {
    "id": "9S0kQ-bBZswZ"
   },
   "source": [
    "First: Graph creation is much faster (~10x), since it doesn't create `max_iterations` copies of the model."
   ]
  },
  {
   "cell_type": "code",
   "execution_count": 82,
   "metadata": {
    "execution": {
     "iopub.execute_input": "2021-08-31T11:25:57.680081Z",
     "iopub.status.busy": "2021-08-31T11:25:57.679552Z",
     "iopub.status.idle": "2021-08-31T11:25:59.417442Z",
     "shell.execute_reply": "2021-08-31T11:25:59.416957Z"
    },
    "id": "Eq8d40RKYoJa"
   },
   "outputs": [
    {
     "name": "stdout",
     "output_type": "stream",
     "text": [
      "CPU times: user 1.77 s, sys: 0 ns, total: 1.77 s\n",
      "Wall time: 1.74 s\n"
     ]
    }
   ],
   "source": [
    "%%time\n",
    "result = translator.tf_translate(\n",
    "    input_text = input_text)"
   ]
  },
  {
   "cell_type": "markdown",
   "metadata": {
    "id": "2ABEwtKIZ6eE"
   },
   "source": [
    "Second: The compiled function is much faster on small inputs (5x on this example), because it can break out of the loop."
   ]
  },
  {
   "cell_type": "code",
   "execution_count": 83,
   "metadata": {
    "execution": {
     "iopub.execute_input": "2021-08-31T11:25:59.422624Z",
     "iopub.status.busy": "2021-08-31T11:25:59.421690Z",
     "iopub.status.idle": "2021-08-31T11:25:59.438965Z",
     "shell.execute_reply": "2021-08-31T11:25:59.439300Z"
    },
    "id": "d5VdCLxPYrpz"
   },
   "outputs": [
    {
     "name": "stdout",
     "output_type": "stream",
     "text": [
      "its very cold here .\n",
      "this is my life .\n",
      "\n",
      "CPU times: user 38 ms, sys: 0 ns, total: 38 ms\n",
      "Wall time: 15.3 ms\n"
     ]
    }
   ],
   "source": [
    "%%time\n",
    "result = translator.tf_translate(\n",
    "    input_text = input_text)\n",
    "\n",
    "print(result['text'][0].numpy().decode())\n",
    "print(result['text'][1].numpy().decode())\n",
    "print()"
   ]
  },
  {
   "cell_type": "markdown",
   "metadata": {
    "id": "eo5sf4jZaO2l"
   },
   "source": [
    "### Visualize the process"
   ]
  },
  {
   "cell_type": "markdown",
   "metadata": {
    "id": "FzZzC2cJacTv"
   },
   "source": [
    "The attention weights returned by the `translate` method show where the model was \"looking\" when it generated each output token.\n",
    "\n",
    "So the sum of the attention over the input should return all ones:"
   ]
  },
  {
   "cell_type": "code",
   "execution_count": 84,
   "metadata": {
    "execution": {
     "iopub.execute_input": "2021-08-31T11:25:59.443088Z",
     "iopub.status.busy": "2021-08-31T11:25:59.442571Z",
     "iopub.status.idle": "2021-08-31T11:25:59.445273Z",
     "shell.execute_reply": "2021-08-31T11:25:59.445596Z"
    },
    "id": "UEd2GljgqQ-0"
   },
   "outputs": [
    {
     "name": "stdout",
     "output_type": "stream",
     "text": [
      "[1.         0.99999994 1.         0.99999994 1.0000001  0.99999994]\n"
     ]
    }
   ],
   "source": [
    "a = result['attention'][0]\n",
    "\n",
    "print(np.sum(a, axis=-1))"
   ]
  },
  {
   "cell_type": "markdown",
   "metadata": {
    "id": "k_HWQHcI2_h5"
   },
   "source": [
    "Here is the attention distribution for the first output step of the first example. Note how the attention is now much more focused than it was for the untrained model:"
   ]
  },
  {
   "cell_type": "code",
   "execution_count": 85,
   "metadata": {
    "execution": {
     "iopub.execute_input": "2021-08-31T11:25:59.459050Z",
     "iopub.status.busy": "2021-08-31T11:25:59.448728Z",
     "iopub.status.idle": "2021-08-31T11:25:59.562561Z",
     "shell.execute_reply": "2021-08-31T11:25:59.562903Z"
    },
    "id": "M8BHdqQujALu"
   },
   "outputs": [
    {
     "data": {
      "image/png": "[encoded data removed]",
      "text/plain": [
       "<Figure size 432x288 with 1 Axes>"
      ]
     },
     "metadata": {
      "needs_background": "light"
     },
     "output_type": "display_data"
    }
   ],
   "source": [
    "_ = plt.bar(range(len(a[0, :])), a[0, :])"
   ]
  },
  {
   "cell_type": "markdown",
   "metadata": {
    "id": "qB13OG472Z3V"
   },
   "source": [
    "Since there is some rough alignment between the input and output words, you expect the attention to be focused near the diagonal:"
   ]
  },
  {
   "cell_type": "code",
   "execution_count": 86,
   "metadata": {
    "execution": {
     "iopub.execute_input": "2021-08-31T11:25:59.581965Z",
     "iopub.status.busy": "2021-08-31T11:25:59.578636Z",
     "iopub.status.idle": "2021-08-31T11:25:59.660492Z",
     "shell.execute_reply": "2021-08-31T11:25:59.660073Z"
    },
    "id": "xyeXuEYHd0kQ"
   },
   "outputs": [
    {
     "data": {
      "text/plain": [
       "<matplotlib.image.AxesImage at 0x7fc2b9590050>"
      ]
     },
     "execution_count": 86,
     "metadata": {},
     "output_type": "execute_result"
    },
    {
     "data": {
      "image/png": "[encoded data removed]",
      "text/plain": [
       "<Figure size 432x288 with 1 Axes>"
      ]
     },
     "metadata": {
      "needs_background": "light"
     },
     "output_type": "display_data"
    }
   ],
   "source": [
    "plt.imshow(np.array(a), vmin=0.0)"
   ]
  },
  {
   "cell_type": "markdown",
   "metadata": {
    "id": "mXECcNTn2mxN"
   },
   "source": [
    "Here is some code to make a better attention plot:"
   ]
  },
  {
   "cell_type": "code",
   "execution_count": 87,
   "metadata": {
    "execution": {
     "iopub.execute_input": "2021-08-31T11:25:59.666620Z",
     "iopub.status.busy": "2021-08-31T11:25:59.666067Z",
     "iopub.status.idle": "2021-08-31T11:25:59.668358Z",
     "shell.execute_reply": "2021-08-31T11:25:59.667877Z"
    },
    "id": "s5hQWlbN3jGF"
   },
   "outputs": [],
   "source": [
    "#@title Labeled attention plots\n",
    "def plot_attention(attention, sentence, predicted_sentence):\n",
    "  sentence = tf_lower_and_split_punct(sentence).numpy().decode().split()\n",
    "  predicted_sentence = predicted_sentence.numpy().decode().split() + ['[END]']\n",
    "  fig = plt.figure(figsize=(10, 10))\n",
    "  ax = fig.add_subplot(1, 1, 1)\n",
    "\n",
    "  attention = attention[:len(predicted_sentence), :len(sentence)]\n",
    "\n",
    "  ax.matshow(attention, cmap='viridis', vmin=0.0)\n",
    "\n",
    "  fontdict = {'fontsize': 14}\n",
    "\n",
    "  ax.set_xticklabels([''] + sentence, fontdict=fontdict, rotation=90)\n",
    "  ax.set_yticklabels([''] + predicted_sentence, fontdict=fontdict)\n",
    "\n",
    "  ax.xaxis.set_major_locator(ticker.MultipleLocator(1))\n",
    "  ax.yaxis.set_major_locator(ticker.MultipleLocator(1))\n",
    "\n",
    "  ax.set_xlabel('Input text')\n",
    "  ax.set_ylabel('Output text')\n",
    "  plt.suptitle('Attention weights')"
   ]
  },
  {
   "cell_type": "code",
   "execution_count": 88,
   "metadata": {
    "execution": {
     "iopub.execute_input": "2021-08-31T11:25:59.672522Z",
     "iopub.status.busy": "2021-08-31T11:25:59.671987Z",
     "iopub.status.idle": "2021-08-31T11:25:59.813602Z",
     "shell.execute_reply": "2021-08-31T11:25:59.813145Z"
    },
    "id": "rrGawQv2eiA4"
   },
   "outputs": [
    {
     "name": "stderr",
     "output_type": "stream",
     "text": [
      "/home/kbuilder/.local/lib/python3.7/site-packages/ipykernel_launcher.py:14: UserWarning: FixedFormatter should only be used together with FixedLocator\n",
      "  \n",
      "/home/kbuilder/.local/lib/python3.7/site-packages/ipykernel_launcher.py:15: UserWarning: FixedFormatter should only be used together with FixedLocator\n",
      "  from ipykernel import kernelapp as app\n"
     ]
    },
    {
     "data": {
      "image/png": "[encoded data removed]",
      "text/plain": [
       "<Figure size 720x720 with 1 Axes>"
      ]
     },
     "metadata": {
      "needs_background": "light"
     },
     "output_type": "display_data"
    }
   ],
   "source": [
    "i=0\n",
    "plot_attention(result['attention'][i], input_text[i], result['text'][i])"
   ]
  },
  {
   "cell_type": "markdown",
   "metadata": {
    "id": "JHBdOf9duumm"
   },
   "source": [
    "Translate a few more sentences and plot them:"
   ]
  },
  {
   "cell_type": "code",
   "execution_count": 89,
   "metadata": {
    "execution": {
     "iopub.execute_input": "2021-08-31T11:25:59.819279Z",
     "iopub.status.busy": "2021-08-31T11:25:59.818328Z",
     "iopub.status.idle": "2021-08-31T11:25:59.841235Z",
     "shell.execute_reply": "2021-08-31T11:25:59.841815Z"
    },
    "id": "WrAM0FDomq3E"
   },
   "outputs": [
    {
     "name": "stdout",
     "output_type": "stream",
     "text": [
      "this is my life .\n",
      "are theyre home yet ?\n",
      "we tried to find out .\n",
      "\n",
      "CPU times: user 31.2 ms, sys: 61.3 ms, total: 92.5 ms\n",
      "Wall time: 21.3 ms\n"
     ]
    }
   ],
   "source": [
    "%%time\n",
    "three_input_text = tf.constant([\n",
    "    # This is my life.\n",
    "    'Esta es mi vida.',\n",
    "    # Are they still home?\n",
    "    '¿Todavía están en casa?',\n",
    "    # Try to find out.'\n",
    "    'Tratar de descubrir.',\n",
    "])\n",
    "\n",
    "result = translator.tf_translate(three_input_text)\n",
    "\n",
    "for tr in result['text']:\n",
    "  print(tr.numpy().decode())\n",
    "\n",
    "print()"
   ]
  },
  {
   "cell_type": "code",
   "execution_count": 90,
   "metadata": {
    "execution": {
     "iopub.execute_input": "2021-08-31T11:25:59.846684Z",
     "iopub.status.busy": "2021-08-31T11:25:59.845735Z",
     "iopub.status.idle": "2021-08-31T11:25:59.848779Z",
     "shell.execute_reply": "2021-08-31T11:25:59.849393Z"
    },
    "id": "-LjFp0AljOaZ"
   },
   "outputs": [
    {
     "data": {
      "text/plain": [
       "<tf.Tensor: shape=(3,), dtype=string, numpy=\n",
       "array([b'this is my life .', b'are theyre home yet ?',\n",
       "       b'we tried to find out .'], dtype=object)>"
      ]
     },
     "execution_count": 90,
     "metadata": {},
     "output_type": "execute_result"
    }
   ],
   "source": [
    "result['text']"
   ]
  },
  {
   "cell_type": "code",
   "execution_count": 91,
   "metadata": {
    "execution": {
     "iopub.execute_input": "2021-08-31T11:25:59.853845Z",
     "iopub.status.busy": "2021-08-31T11:25:59.852971Z",
     "iopub.status.idle": "2021-08-31T11:25:59.990108Z",
     "shell.execute_reply": "2021-08-31T11:25:59.990748Z"
    },
    "id": "v7QwIMrG-id2"
   },
   "outputs": [
    {
     "name": "stderr",
     "output_type": "stream",
     "text": [
      "/home/kbuilder/.local/lib/python3.7/site-packages/ipykernel_launcher.py:14: UserWarning: FixedFormatter should only be used together with FixedLocator\n",
      "  \n",
      "/home/kbuilder/.local/lib/python3.7/site-packages/ipykernel_launcher.py:15: UserWarning: FixedFormatter should only be used together with FixedLocator\n",
      "  from ipykernel import kernelapp as app\n"
     ]
    },
    {
     "data": {
      "image/png": "[encoded data removed]",
      "text/plain": [
       "<Figure size 720x720 with 1 Axes>"
      ]
     },
     "metadata": {
      "needs_background": "light"
     },
     "output_type": "display_data"
    }
   ],
   "source": [
    "i = 0\n",
    "plot_attention(result['attention'][i], three_input_text[i], result['text'][i])"
   ]
  },
  {
   "cell_type": "code",
   "execution_count": 92,
   "metadata": {
    "execution": {
     "iopub.execute_input": "2021-08-31T11:25:59.995824Z",
     "iopub.status.busy": "2021-08-31T11:25:59.994787Z",
     "iopub.status.idle": "2021-08-31T11:26:00.137471Z",
     "shell.execute_reply": "2021-08-31T11:26:00.138101Z"
    },
    "id": "zYVoVf8P-lr-"
   },
   "outputs": [
    {
     "name": "stderr",
     "output_type": "stream",
     "text": [
      "/home/kbuilder/.local/lib/python3.7/site-packages/ipykernel_launcher.py:14: UserWarning: FixedFormatter should only be used together with FixedLocator\n",
      "  \n",
      "/home/kbuilder/.local/lib/python3.7/site-packages/ipykernel_launcher.py:15: UserWarning: FixedFormatter should only be used together with FixedLocator\n",
      "  from ipykernel import kernelapp as app\n"
     ]
    },
    {
     "data": {
      "image/png": "[encoded data removed]",
      "text/plain": [
       "<Figure size 720x720 with 1 Axes>"
      ]
     },
     "metadata": {
      "needs_background": "light"
     },
     "output_type": "display_data"
    }
   ],
   "source": [
    "i = 1\n",
    "plot_attention(result['attention'][i], three_input_text[i], result['text'][i])"
   ]
  },
  {
   "cell_type": "code",
   "execution_count": 93,
   "metadata": {
    "execution": {
     "iopub.execute_input": "2021-08-31T11:26:00.142701Z",
     "iopub.status.busy": "2021-08-31T11:26:00.140879Z",
     "iopub.status.idle": "2021-08-31T11:26:00.279612Z",
     "shell.execute_reply": "2021-08-31T11:26:00.278741Z"
    },
    "id": "9sFvlZBk-me4"
   },
   "outputs": [
    {
     "name": "stderr",
     "output_type": "stream",
     "text": [
      "/home/kbuilder/.local/lib/python3.7/site-packages/ipykernel_launcher.py:14: UserWarning: FixedFormatter should only be used together with FixedLocator\n",
      "  \n",
      "/home/kbuilder/.local/lib/python3.7/site-packages/ipykernel_launcher.py:15: UserWarning: FixedFormatter should only be used together with FixedLocator\n",
      "  from ipykernel import kernelapp as app\n"
     ]
    },
    {
     "data": {
      "image/png": "[encoded data removed]",
      "text/plain": [
       "<Figure size 720x720 with 1 Axes>"
      ]
     },
     "metadata": {
      "needs_background": "light"
     },
     "output_type": "display_data"
    }
   ],
   "source": [
    "i = 2\n",
    "plot_attention(result['attention'][i], three_input_text[i], result['text'][i])"
   ]
  },
  {
   "cell_type": "markdown",
   "metadata": {
    "id": "rA3xI3NzrRJt"
   },
   "source": [
    "The short sentences often work well, but if the input is too long the model literally loses focus and stops providing reasonable predictions. There are two main reasons for this:\n",
    "\n",
    "1. The model was trained with teacher-forcing feeding the correct token at each step, regardless of the model's predictions. The model could be made more robust if it were sometimes fed its own predictions.\n",
    "2. The model only has access to its previous output through the RNN state. If the RNN state gets corrupted, there's no way for the model to recover. [Transformers](transformer.ipynb) solve this by using self-attention in the encoder and decoder."
   ]
  },
  {
   "cell_type": "code",
   "execution_count": 94,
   "metadata": {
    "execution": {
     "iopub.execute_input": "2021-08-31T11:26:00.285158Z",
     "iopub.status.busy": "2021-08-31T11:26:00.284297Z",
     "iopub.status.idle": "2021-08-31T11:26:00.287100Z",
     "shell.execute_reply": "2021-08-31T11:26:00.287706Z"
    },
    "id": "-FUHFLEvSMbG"
   },
   "outputs": [
    {
     "name": "stdout",
     "output_type": "stream",
     "text": [
      "Expected output:\n",
      " If you want to sound like a native speaker, you must be willing to\n",
      "practice saying the same sentence over and over in the same way that\n",
      "banjo players practice the same phrase over and over until they can\n",
      "play it correctly and at the desired tempo.\n"
     ]
    }
   ],
   "source": [
    "long_input_text = tf.constant([inp[-1]])\n",
    "\n",
    "import textwrap\n",
    "print('Expected output:\\n', '\\n'.join(textwrap.wrap(targ[-1])))"
   ]
  },
  {
   "cell_type": "code",
   "execution_count": 95,
   "metadata": {
    "execution": {
     "iopub.execute_input": "2021-08-31T11:26:00.293060Z",
     "iopub.status.busy": "2021-08-31T11:26:00.292171Z",
     "iopub.status.idle": "2021-08-31T11:26:01.555543Z",
     "shell.execute_reply": "2021-08-31T11:26:01.555911Z"
    },
    "id": "lDa_8NaN_RUy"
   },
   "outputs": [
    {
     "name": "stderr",
     "output_type": "stream",
     "text": [
      "/home/kbuilder/.local/lib/python3.7/site-packages/ipykernel_launcher.py:14: UserWarning: FixedFormatter should only be used together with FixedLocator\n",
      "  \n",
      "/home/kbuilder/.local/lib/python3.7/site-packages/ipykernel_launcher.py:15: UserWarning: FixedFormatter should only be used together with FixedLocator\n",
      "  from ipykernel import kernelapp as app\n"
     ]
    },
    {
     "data": {
      "image/png": "[encoded data removed]",
      "text/plain": [
       "<Figure size 720x720 with 1 Axes>"
      ]
     },
     "metadata": {
      "needs_background": "light"
     },
     "output_type": "display_data"
    }
   ],
   "source": [
    "result = translator.tf_translate(long_input_text)\n",
    "\n",
    "i = 0\n",
    "plot_attention(result['attention'][i], long_input_text[i], result['text'][i])\n",
    "_ = plt.suptitle('This never works')"
   ]
  },
  {
   "cell_type": "markdown",
   "metadata": {
    "id": "mMA9Pp71nzH9"
   },
   "source": [
    "## Export"
   ]
  },
  {
   "cell_type": "markdown",
   "metadata": {
    "id": "5rLMNOmsKoXe"
   },
   "source": [
    "Once you have a model you're satisfied with you might want to export it as a `tf.saved_model` for use outside of this python program that created it.\n",
    "\n",
    "Since the model is a subclass of `tf.Module` (through `keras.Model`), and all the functionality for export is compiled in a `tf.function` the model should export cleanly with `tf.saved_model.save`:  "
   ]
  },
  {
   "cell_type": "markdown",
   "metadata": {
    "id": "NP2dNtEXJPEL"
   },
   "source": [
    "Now that the function has been traced it can be exported using `saved_model.save`:"
   ]
  },
  {
   "cell_type": "code",
   "execution_count": 96,
   "metadata": {
    "execution": {
     "iopub.execute_input": "2021-08-31T11:26:01.560701Z",
     "iopub.status.busy": "2021-08-31T11:26:01.560159Z",
     "iopub.status.idle": "2021-08-31T11:26:05.306922Z",
     "shell.execute_reply": "2021-08-31T11:26:05.307370Z"
    },
    "id": "OyvxT5V0_X5B"
   },
   "outputs": [
    {
     "name": "stderr",
     "output_type": "stream",
     "text": [
      "2021-08-31 11:26:03.315521: W tensorflow/python/util/util.cc:348] Sets are not currently considered sequences, but this may change in the future, so consider avoiding using them.\n",
      "WARNING:absl:Found untraced functions such as encoder_2_layer_call_and_return_conditional_losses, encoder_2_layer_call_fn, decoder_2_layer_call_and_return_conditional_losses, decoder_2_layer_call_fn, embedding_4_layer_call_and_return_conditional_losses while saving (showing 5 of 60). These functions will not be directly callable after loading.\n"
     ]
    },
    {
     "name": "stdout",
     "output_type": "stream",
     "text": [
      "INFO:tensorflow:Assets written to: translator/assets\n"
     ]
    },
    {
     "name": "stderr",
     "output_type": "stream",
     "text": [
      "INFO:tensorflow:Assets written to: translator/assets\n"
     ]
    }
   ],
   "source": [
    "tf.saved_model.save(translator, 'translator',\n",
    "                    signatures={'serving_default': translator.tf_translate})"
   ]
  },
  {
   "cell_type": "code",
   "execution_count": 97,
   "metadata": {
    "execution": {
     "iopub.execute_input": "2021-08-31T11:26:05.311776Z",
     "iopub.status.busy": "2021-08-31T11:26:05.311213Z",
     "iopub.status.idle": "2021-08-31T11:26:06.736481Z",
     "shell.execute_reply": "2021-08-31T11:26:06.736860Z"
    },
    "id": "-I0j3i3ekOba"
   },
   "outputs": [],
   "source": [
    "reloaded = tf.saved_model.load('translator')\n",
    "result = reloaded.tf_translate(three_input_text)"
   ]
  },
  {
   "cell_type": "code",
   "execution_count": 98,
   "metadata": {
    "execution": {
     "iopub.execute_input": "2021-08-31T11:26:06.742091Z",
     "iopub.status.busy": "2021-08-31T11:26:06.741216Z",
     "iopub.status.idle": "2021-08-31T11:26:06.759688Z",
     "shell.execute_reply": "2021-08-31T11:26:06.759245Z"
    },
    "id": "GXZF__FZXJCm"
   },
   "outputs": [
    {
     "name": "stdout",
     "output_type": "stream",
     "text": [
      "this is my life .\n",
      "are you still home ?\n",
      "try to figure out ahead .\n",
      "\n",
      "CPU times: user 43.6 ms, sys: 140 µs, total: 43.8 ms\n",
      "Wall time: 16.6 ms\n"
     ]
    }
   ],
   "source": [
    "%%time\n",
    "result = reloaded.tf_translate(three_input_text)\n",
    "\n",
    "for tr in result['text']:\n",
    "  print(tr.numpy().decode())\n",
    "\n",
    "print()"
   ]
  },
  {
   "cell_type": "markdown",
   "metadata": {
    "id": "RTe5P5ioMJwN"
   },
   "source": [
    "## Next steps\n",
    "\n",
    "* [Download a different dataset](http://www.manythings.org/anki/) to experiment with translations, for example, English to German, or English to French.\n",
    "* Experiment with training on a larger dataset, or using more epochs.\n",
    "* Try the [transformer tutorial](transformer.ipynb) which implements a similar translation task but uses a transformer layers instead of RNNs. This version also uses a `text.BertTokenizer` to implement wordpiece tokenization.\n",
    "* Have a look at the [tensorflow_addons.seq2seq](https://www.tensorflow.org/addons/tutorials/networks_seq2seq_nmt) for implementing this sort of sequence to sequence model. The `tfa.seq2seq` package includes higher level functionality like `seq2seq.BeamSearchDecoder`. "
   ]
  }
 ],
 "metadata": {
  "accelerator": "GPU",
  "colab": {
   "collapsed_sections": [],
   "last_runtime": {
    "build_target": "//learning/deepmind/public/tools/ml_python:ml_notebook",
    "kind": "private"
   },
   "name": "nmt_with_attention.ipynb",
   "private_outputs": true,
   "provenance": [],
   "toc_visible": true
  },
  "kernelspec": {
   "display_name": "Python 3",
   "language": "python",
   "name": "python3"
  },
  "language_info": {
   "codemirror_mode": {
    "name": "ipython",
    "version": 3
   },
   "file_extension": ".py",
   "mimetype": "text/x-python",
   "name": "python",
   "nbconvert_exporter": "python",
   "pygments_lexer": "ipython3",
   "version": "3.8.10"
  }
 },
 "nbformat": 4,
 "nbformat_minor": 1
}
